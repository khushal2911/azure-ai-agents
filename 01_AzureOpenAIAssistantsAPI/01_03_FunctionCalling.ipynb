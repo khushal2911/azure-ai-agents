{
 "cells": [
  {
   "cell_type": "markdown",
   "metadata": {},
   "source": [
    "# Azure OpenAI Assistants - Function Calling\n",
    "Travel Agent Assistant"
   ]
  },
  {
   "cell_type": "markdown",
   "metadata": {},
   "source": [
    "## Load Azure Configuration"
   ]
  },
  {
   "cell_type": "code",
   "execution_count": 6,
   "metadata": {},
   "outputs": [],
   "source": [
    "from dotenv import load_dotenv\n",
    "import os\n",
    "import warnings\n",
    "warnings.filterwarnings(\"ignore\")\n",
    "\n",
    "# Load environment variables from .env file\n",
    "\n",
    "azure_openai_endpoint = os.getenv(\"AZURE_OPENAI_ENDPOINT\")\n",
    "azure_openai_key = os.getenv(\"AZURE_OPENAI_API_KEY\")\n",
    "azure_openai_deployment = os.getenv(\"AZURE_OPENAI_CHAT_DEPLOYMENT_NAME\")\n",
    "azure_openai_api_version = os.getenv(\"AZURE_OPENAI_API_VERSION\")"
   ]
  },
  {
   "cell_type": "markdown",
   "metadata": {},
   "source": [
    "## Create Functions"
   ]
  },
  {
   "cell_type": "code",
   "execution_count": 2,
   "metadata": {},
   "outputs": [],
   "source": [
    "tools_function = [\n",
    "    {\n",
    "        \"type\": \"function\",\n",
    "        \"function\": {\n",
    "            \"name\": \"get_countries\",\n",
    "            \"description\": \"Retrieves the countries available.\"\n",
    "        }\n",
    "    },\n",
    "    {\n",
    "        \"type\": \"function\",\n",
    "        \"function\": {\n",
    "            \"name\": \"get_travel_budget\",\n",
    "            \"description\": \"Answers questions if a person has the money to visit a specific country. You will use this function when money is involved in the question\",\n",
    "        }\n",
    "    },\n",
    "    {\n",
    "        \"type\": \"function\",\n",
    "        \"function\": {\n",
    "            \"name\": \"get_weather\",\n",
    "            \"description\": \"Retrieves the weather for a country.\",\n",
    "            \"parameters\": {\n",
    "                \"type\": \"object\",\n",
    "                \"properties\": {\n",
    "                    \"country\": {\n",
    "                        \"type\": \"string\",\n",
    "                        \"description\": \"The country (e.g., 'USA', 'France').\"\n",
    "                    }\n",
    "                },\n",
    "                \"required\": [\"country\"]\n",
    "            }\n",
    "        }\n",
    "    },\n",
    "\n",
    "]\n",
    "\n",
    "# define functions\n",
    "def get_countries():\n",
    "    return \"\"\"\n",
    "        United States\n",
    "        Australia\n",
    "        France\n",
    "    \"\"\"\n",
    "\n",
    "def get_travel_budget():\n",
    "    return \"\"\"\n",
    "        If country is not defined:\n",
    "            Look at all the budgets per country\n",
    "        United States Budget:\n",
    "            Budget Travelers: Around $121 per day. This includes staying in hostels, eating at budget restaurants, and using public transportation.\n",
    "            Mid-Range Travelers: Approximately $324 per day. This covers mid-range hotels, dining at average restaurants, and some paid attractions.\n",
    "            Luxury Travelers: About $923 per day. This includes luxury hotels, fine dining, and private transportation.\n",
    "        Australia Budget:\n",
    "            Budget Travelers: Around $75 per day. This includes staying in hostels, cooking your own meals, and using public transport.\n",
    "            Mid-Range Travelers: Approximately $195 per day. This covers mid-range hotels, dining at average restaurants, and some paid attractions.\n",
    "            Luxury Travelers: About $517 per day. This includes luxury hotels, fine dining, and private transportation.\n",
    "        France Budget:\n",
    "            Budget Travelers: Around $100 per day. This includes staying in hostels, eating at budget restaurants, and using public transportation.\n",
    "            Mid-Range Travelers: Approximately $286 per day. This covers mid-range hotels, dining at average restaurants, and some paid attractions.\n",
    "            Luxury Travelers: About $908 per day. This includes luxury hotels, fine dining, and private transportation.\n",
    "        \"\"\"\n",
    "def get_weather(country):\n",
    "    if country == \"United States\":\n",
    "        return \"\"\"\n",
    "            The United States has a diverse climate. In general:\n",
    "            - **Winter**: Cold in the north, mild in the south. Average temperatures range from 26.6°F (-3°C) in Alaska to 70.7°F (21.5°C) in Florida.\n",
    "            - **Summer**: Hot and humid in the south, dry in the west. Average temperatures range from 52.7°F (11.5°C) to 70.7°F (21.5°C).\n",
    "        \"\"\"\n",
    "    elif country == \"Australia\":\n",
    "        return \"\"\"\n",
    "            Australia experiences varied climates:\n",
    "            - **Winter**: Mild in the north, cooler in the south. Average temperatures range from 46°F (8°C) in Canberra to 77°F (25°C) in Darwin.\n",
    "            - **Summer**: Hot and dry in the interior, humid in the north. Average temperatures range from 68°F (20°C) in Hobart to 91°F (33°C) in Darwin.\n",
    "        \"\"\"\n",
    "    elif country == \"France\":\n",
    "        return \"\"\"\n",
    "            France has several climate zones:\n",
    "            - **Winter**: Cold in the north, mild in the south. Average temperatures range from 35.5°F (2°C) in the northeast to 48°F (9°C) in the south.\n",
    "            - **Summer**: Warm and sunny. Average temperatures range from 63°F (17°C) in the north to 77°F (25°C) along the Mediterranean coast.\n",
    "        \"\"\"\n",
    "    else:\n",
    "        return \"Country not found\""
   ]
  },
  {
   "cell_type": "markdown",
   "metadata": {},
   "source": [
    "## Step 1-2:\n",
    "1. Create an Assistant\n",
    "2. Create a Thread"
   ]
  },
  {
   "cell_type": "code",
   "execution_count": 7,
   "metadata": {},
   "outputs": [
    {
     "name": "stdout",
     "output_type": "stream",
     "text": [
      "Thread(id='thread_1c9y0nqudbbjx6akALPWAVc2', created_at=1750531861, metadata={}, object='thread', tool_resources=ToolResources(code_interpreter=None, file_search=None))\n"
     ]
    }
   ],
   "source": [
    "from openai import AzureOpenAI\n",
    "\n",
    "client = AzureOpenAI(\n",
    "    api_version=azure_openai_api_version,\n",
    "    azure_endpoint=azure_openai_endpoint,\n",
    "    api_key=azure_openai_key\n",
    ")\n",
    "\n",
    "# Step 1: Create an assistant\n",
    "#\tAssistant is a custom AI that uses Azure OpenAI models in conjunction with tools.\n",
    "# For other parameters: https://learn.microsoft.com/en-us/azure/ai-services/openai/assistants-reference?tabs=python#create-an-assistant\n",
    "assistant = client.beta.assistants.create(\n",
    "  name=\"Travel Assistant\",\n",
    "  instructions=\"\"\"You are an assistant that answers questions about travel.\"\"\",\n",
    "  model=azure_openai_deployment, \n",
    "  tools=tools_function\n",
    ")\n",
    "\n",
    "# Step 2: Create a thread\n",
    "# Thread is a conversation session between an Assistant and a user. \n",
    "# Threads store Messages and automatically handle truncation to fit content into a model’s context.\n",
    "# https://learn.microsoft.com/en-us/azure/ai-services/openai/assistants-reference-threads?tabs=python\n",
    "thread = client.beta.threads.create()\n",
    "print(thread)"
   ]
  },
  {
   "cell_type": "markdown",
   "metadata": {},
   "source": [
    "## Step 3-6: Helper Function\n",
    "3. Add a message to the thread\n",
    "4. Run the Assistant\n",
    "5. Check the Run Status\n",
    "6. Display the Assistant's Response"
   ]
  },
  {
   "cell_type": "code",
   "execution_count": 8,
   "metadata": {},
   "outputs": [],
   "source": [
    "import time\n",
    "import json\n",
    "\n",
    "def run_assistant(user_question):\n",
    "  # Step 3: Add a message/user question to the thread\n",
    "  # Message is a message created by an Assistant or a user. \n",
    "  # Messages can include text, images, and other files. \n",
    "  # Messages are stored as a list on the Thread.\n",
    "  messages = client.beta.threads.messages.create(\n",
    "    thread_id=thread.id,\n",
    "    role=\"user\",\n",
    "    content=user_question\n",
    "  )\n",
    "\n",
    "  # Step 4: Run the Assistant\n",
    "  # Run is an activation of an Assistant to begin running based on the contents of the Thread. \n",
    "  # The Assistant uses its configuration and the Thread’s Messages to perform tasks by calling models and tools. \n",
    "  # As part of a Run, the Assistant appends Messages to the Thread.\n",
    "  run = client.beta.threads.runs.create(\n",
    "    thread_id=thread.id,\n",
    "    assistant_id=assistant.id\n",
    "  )\n",
    "\n",
    "  # Step 5: Check the Run Status - Looping until the run completes or fails\n",
    "  # When you initiate a Run with a user Message that triggers the function, the Run will enter a \"in_progress\" status. \n",
    "  # After it processes, the run will enter a \"requires_action\" state that you can verify by retrieving the Run.\n",
    "  while run.status in ['queued', 'in_progress', 'cancelling']:\n",
    "    time.sleep(1)\n",
    "    run = client.beta.threads.runs.retrieve(\n",
    "      thread_id=thread.id,\n",
    "      run_id=run.id\n",
    "    )\n",
    "\n",
    "    #display run status\n",
    "    print(run.status)\n",
    "\n",
    "    if run.status == 'completed':\n",
    "      messages = client.beta.threads.messages.list(thread_id=thread.id)\n",
    "\n",
    "      # Step 6: Display the Assistant's Response\n",
    "      content_block = messages.data[0].content[0]\n",
    "      value = content_block.text.value\n",
    "      print(value)\n",
    "    \n",
    "    elif run.status == 'requires_action':\n",
    "      tool_outputs = []\n",
    "      for tool_call in run.required_action.submit_tool_outputs.tool_calls:\n",
    "        function_name = tool_call.function.name\n",
    "        print(\"Function Name: \", function_name)\n",
    "        \n",
    "        function_args = json.loads(tool_call.function.arguments)\n",
    "        print(\"Function Arguments: \", function_args)    \n",
    "        \n",
    "        if function_name == \"get_countries\":\n",
    "          function_response = get_countries()\n",
    "        elif function_name == \"get_travel_budget\":\n",
    "          function_response = get_travel_budget()\n",
    "        elif function_name == \"get_weather\":\n",
    "          function_response = get_weather(country=function_args.get(\"country\"))    \n",
    "        else:\n",
    "          function_response = \"Unknown function\"\n",
    "        print(\"Function Response: \", function_response)\n",
    "\n",
    "        ### You can then complete the Run by submitting the tool output from the function(s) you call. \n",
    "        ### Pass the tool_call_id referenced in the required_action object to match output to each function call.\n",
    "        tool_outputs.append(\n",
    "          { \n",
    "            \"tool_call_id\": tool_call.id,\n",
    "            \"output\": str(function_response)\n",
    "          }\n",
    "        )\n",
    "        print(\"Tool output: \", tool_outputs)\n",
    "        run = client.beta.threads.runs.submit_tool_outputs(\n",
    "          thread_id=thread.id,\n",
    "          run_id=run.id,\n",
    "          tool_outputs = tool_outputs\n",
    "        )\n",
    "\n",
    "    elif run.status == \"failed\":\n",
    "        print(run.last_error)\n",
    "        \n",
    "    else:\n",
    "        pass"
   ]
  },
  {
   "cell_type": "code",
   "execution_count": 9,
   "metadata": {},
   "outputs": [
    {
     "name": "stdout",
     "output_type": "stream",
     "text": [
      "requires_action\n",
      "Function Name:  get_countries\n",
      "Function Arguments:  {}\n",
      "Function Response:  \n",
      "        United States\n",
      "        Australia\n",
      "        France\n",
      "    \n",
      "Tool output:  [{'tool_call_id': 'call_ciwREOkfNVBhrvTyKLR9vzgx', 'output': '\\n        United States\\n        Australia\\n        France\\n    '}]\n",
      "completed\n",
      "You can visit the following countries:\n",
      "\n",
      "1. United States\n",
      "2. Australia\n",
      "3. France\n"
     ]
    }
   ],
   "source": [
    "user_question =\"\"\"What countries can I visit?\"\"\"\n",
    "run_assistant(user_question)"
   ]
  },
  {
   "cell_type": "markdown",
   "metadata": {},
   "source": [
    "## Step 7: Append Messages"
   ]
  },
  {
   "cell_type": "code",
   "execution_count": 10,
   "metadata": {},
   "outputs": [
    {
     "name": "stdout",
     "output_type": "stream",
     "text": [
      "requires_action\n",
      "Function Name:  get_weather\n",
      "Function Arguments:  {'country': 'United States'}\n",
      "Function Response:  \n",
      "            The United States has a diverse climate. In general:\n",
      "            - **Winter**: Cold in the north, mild in the south. Average temperatures range from 26.6°F (-3°C) in Alaska to 70.7°F (21.5°C) in Florida.\n",
      "            - **Summer**: Hot and humid in the south, dry in the west. Average temperatures range from 52.7°F (11.5°C) to 70.7°F (21.5°C).\n",
      "        \n",
      "Tool output:  [{'tool_call_id': 'call_o50LxwhgtTm2xvS3l4g5tin3', 'output': '\\n            The United States has a diverse climate. In general:\\n            - **Winter**: Cold in the north, mild in the south. Average temperatures range from 26.6°F (-3°C) in Alaska to 70.7°F (21.5°C) in Florida.\\n            - **Summer**: Hot and humid in the south, dry in the west. Average temperatures range from 52.7°F (11.5°C) to 70.7°F (21.5°C).\\n        '}]\n",
      "in_progress\n",
      "completed\n",
      "The weather in the United States varies greatly due to its diverse climate. Here's a general overview:\n",
      "\n",
      "- **Winter**: \n",
      "  - Cold in the north (e.g., Alaska averages around 26.6°F or -3°C).\n",
      "  - Mild in the south (e.g., Florida averages around 70.7°F or 21.5°C).\n",
      "\n",
      "- **Summer**: \n",
      "  - Hot and humid in the south.\n",
      "  - Dry in the west, with temperatures averaging from 52.7°F (11.5°C) to 70.7°F (21.5°C).\n",
      "\n",
      "The conditions can vary widely depending on the specific region you are in.\n"
     ]
    }
   ],
   "source": [
    "user_question =\"\"\"What is the weather like in the United States?\"\"\"\n",
    "run_assistant(user_question)"
   ]
  },
  {
   "cell_type": "code",
   "execution_count": 11,
   "metadata": {},
   "outputs": [
    {
     "name": "stdout",
     "output_type": "stream",
     "text": [
      "requires_action\n",
      "Function Name:  get_travel_budget\n",
      "Function Arguments:  {}\n",
      "Function Response:  \n",
      "        If country is not defined:\n",
      "            Look at all the budgets per country\n",
      "        United States Budget:\n",
      "            Budget Travelers: Around $121 per day. This includes staying in hostels, eating at budget restaurants, and using public transportation.\n",
      "            Mid-Range Travelers: Approximately $324 per day. This covers mid-range hotels, dining at average restaurants, and some paid attractions.\n",
      "            Luxury Travelers: About $923 per day. This includes luxury hotels, fine dining, and private transportation.\n",
      "        Australia Budget:\n",
      "            Budget Travelers: Around $75 per day. This includes staying in hostels, cooking your own meals, and using public transport.\n",
      "            Mid-Range Travelers: Approximately $195 per day. This covers mid-range hotels, dining at average restaurants, and some paid attractions.\n",
      "            Luxury Travelers: About $517 per day. This includes luxury hotels, fine dining, and private transportation.\n",
      "        France Budget:\n",
      "            Budget Travelers: Around $100 per day. This includes staying in hostels, eating at budget restaurants, and using public transportation.\n",
      "            Mid-Range Travelers: Approximately $286 per day. This covers mid-range hotels, dining at average restaurants, and some paid attractions.\n",
      "            Luxury Travelers: About $908 per day. This includes luxury hotels, fine dining, and private transportation.\n",
      "        \n",
      "Tool output:  [{'tool_call_id': 'call_KzimHdUOiJATQHKYmtpJhYoC', 'output': '\\n        If country is not defined:\\n            Look at all the budgets per country\\n        United States Budget:\\n            Budget Travelers: Around $121 per day. This includes staying in hostels, eating at budget restaurants, and using public transportation.\\n            Mid-Range Travelers: Approximately $324 per day. This covers mid-range hotels, dining at average restaurants, and some paid attractions.\\n            Luxury Travelers: About $923 per day. This includes luxury hotels, fine dining, and private transportation.\\n        Australia Budget:\\n            Budget Travelers: Around $75 per day. This includes staying in hostels, cooking your own meals, and using public transport.\\n            Mid-Range Travelers: Approximately $195 per day. This covers mid-range hotels, dining at average restaurants, and some paid attractions.\\n            Luxury Travelers: About $517 per day. This includes luxury hotels, fine dining, and private transportation.\\n        France Budget:\\n            Budget Travelers: Around $100 per day. This includes staying in hostels, eating at budget restaurants, and using public transportation.\\n            Mid-Range Travelers: Approximately $286 per day. This covers mid-range hotels, dining at average restaurants, and some paid attractions.\\n            Luxury Travelers: About $908 per day. This includes luxury hotels, fine dining, and private transportation.\\n        '}]\n",
      "in_progress\n",
      "completed\n",
      "For a 4-day vacation in the United States, here's a breakdown of the estimated budgets:\n",
      "\n",
      "- **Budget Travelers**: About **$121 per day**, totaling approximately **$484** for 4 days.\n",
      "- **Mid-Range Travelers**: Approximately **$324 per day**, totaling about **$1,296** for 4 days.\n",
      "- **Luxury Travelers**: Around **$923 per day**, totaling about **$3,692** for 4 days.\n",
      "\n",
      "With a budget of **$500**, you could fit into the **budget traveler category**, but it would be tight. It would cover the basics, like staying in hostels and eating at budget restaurants, but you might need to be cautious with activities and transportation.\n"
     ]
    }
   ],
   "source": [
    "user_question =\"\"\"Will $500 fit for a 4 day vacation there?\"\"\"\n",
    "run_assistant(user_question)"
   ]
  },
  {
   "cell_type": "markdown",
   "metadata": {},
   "source": [
    "## Delete Assistant"
   ]
  },
  {
   "cell_type": "code",
   "execution_count": 12,
   "metadata": {},
   "outputs": [],
   "source": [
    "response = client.beta.assistants.delete(assistant.id)"
   ]
  },
  {
   "cell_type": "code",
   "execution_count": null,
   "metadata": {},
   "outputs": [],
   "source": []
  }
 ],
 "metadata": {
  "kernelspec": {
   "display_name": ".venv",
   "language": "python",
   "name": "python3"
  },
  "language_info": {
   "codemirror_mode": {
    "name": "ipython",
    "version": 3
   },
   "file_extension": ".py",
   "mimetype": "text/x-python",
   "name": "python",
   "nbconvert_exporter": "python",
   "pygments_lexer": "ipython3",
   "version": "3.12.1"
  }
 },
 "nbformat": 4,
 "nbformat_minor": 2
}
