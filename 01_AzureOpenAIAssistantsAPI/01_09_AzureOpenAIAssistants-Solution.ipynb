{
 "cells": [
  {
   "cell_type": "markdown",
   "metadata": {},
   "source": [
    "# Azure OpenAI Assistants API Solution"
   ]
  },
  {
   "cell_type": "markdown",
   "metadata": {},
   "source": [
    "## Load Azure Configuration"
   ]
  },
  {
   "cell_type": "code",
   "execution_count": 1,
   "metadata": {},
   "outputs": [],
   "source": [
    "from dotenv import load_dotenv\n",
    "import os\n",
    "\n",
    "azure_openai_endpoint = os.getenv(\"AZURE_OPENAI_ENDPOINT\")\n",
    "azure_openai_key = os.getenv(\"AZURE_OPENAI_API_KEY\")\n",
    "azure_openai_deployment = os.getenv(\"AZURE_OPENAI_CHAT_DEPLOYMENT_NAME\")\n",
    "azure_openai_api_version = os.getenv(\"AZURE_OPENAI_API_VERSION\")"
   ]
  },
  {
   "cell_type": "markdown",
   "metadata": {},
   "source": [
    "## Create Functions"
   ]
  },
  {
   "cell_type": "code",
   "execution_count": 2,
   "metadata": {},
   "outputs": [],
   "source": [
    "tools_function = [\n",
    "    {   \"type\": \"file_search\"},\n",
    "    {\n",
    "        \"type\": \"function\",\n",
    "        \"function\": {\n",
    "            \"name\": \"get_destinations\",\n",
    "            \"description\": \"Provides a list of hiking destinations or hiking countries.\"\n",
    "        }\n",
    "    },\n",
    "    {\n",
    "        \"type\": \"function\",\n",
    "        \"function\": {\n",
    "            \"name\": \"get_hiking_budget\",\n",
    "            \"description\": \"Provides the typical hiking budget for a country. Use this when money is asked or mentioned in the conversation.\"\n",
    "        }\n",
    "    },\n",
    "    {\n",
    "        \"type\": \"function\",\n",
    "        \"function\": {\n",
    "            \"name\": \"get_weather\",\n",
    "            \"description\": \"Provides the weather for a country\",\n",
    "            \"parameters\": {\n",
    "                \"type\": \"object\",\n",
    "                \"properties\": {\n",
    "                    \"country\": {\n",
    "                        \"type\": \"string\",\n",
    "                        \"description\": \"The country (e.g., 'US', 'Australia').\"\n",
    "                    }\n",
    "                },\n",
    "                \"required\": [\"country\"]\n",
    "            }\n",
    "        }\n",
    "    },\n",
    "\n",
    "]\n",
    "\n",
    "# define functions\n",
    "def get_destinations():\n",
    "    return \"\"\"\n",
    "        United States\n",
    "        Australia\n",
    "        France\n",
    "        \"\"\"\n",
    "\n",
    "def get_hiking_budget():\n",
    "        return \"\"\"\n",
    "        If country is not defined:\n",
    "            Look at all the budgets per country\n",
    "        United States Budget:\n",
    "                Budget Hikers: Around $50 per day. This includes camping, cooking your own meals, and using public transportation.\n",
    "                Mid-Range Hikers: Approximately $150 per day. This covers mid-range accommodations, dining at average restaurants, and some paid attractions.\n",
    "                Luxury Hikers: About $400 per day. This includes luxury lodges, fine dining, and private transportation.\n",
    "        Australia Budget:\n",
    "                Budget Hikers: Around $40 per day. This includes camping, cooking your own meals, and using public transport.\n",
    "                Mid-Range Hikers: Approximately $120 per day. This covers mid-range accommodations, dining at average restaurants, and some paid attractions.\n",
    "                Luxury Hikers: About $350 per day. This includes luxury lodges, fine dining, and private transportation.\n",
    "        France Budget:\n",
    "                Budget Hikers: Around $45 per day. This includes camping, cooking your own meals, and using public transportation.\n",
    "                Mid-Range Hikers: Approximately $130 per day. This covers mid-range accommodations, dining at average restaurants, and some paid attractions.\n",
    "                Luxury Hikers: About $380 per day. This includes luxury lodges, fine dining, and private transportation.            \n",
    "        \"\"\"\n",
    "    \n",
    "def get_weather(country):\n",
    "    if country == \"United States\":\n",
    "        return \"\"\"\n",
    "            The United States has a diverse climate. In general:\n",
    "            - **Winter**: Cold in the north, mild in the south. Average temperatures range from 26.6°F (-3°C) in Alaska to 70.7°F (21.5°C) in Florida.\n",
    "            - **Summer**: Hot and humid in the south, dry in the west. Average temperatures range from 52.7°F (11.5°C) to 70.7°F (21.5°C).\n",
    "            \"\"\"\n",
    "    elif country == \"Australia\":\n",
    "        return \"\"\"\n",
    "                Australia experiences varied climates:\n",
    "                - **Winter**: Mild in the north, cooler in the south. Average temperatures range from 46°F (8°C) in Canberra to 77°F (25°C) in Darwin.\n",
    "                - **Summer**: Hot and dry in the interior, humid in the north. Average temperatures range from 68°F (20°C) in Hobart to 91°F (33°C) in Darwin.\n",
    "            \"\"\"\n",
    "    elif country == \"France\":\n",
    "        return \"\"\"\n",
    "                France has several climate zones:\n",
    "                - **Winter**: Cold in the north, mild in the south. Average temperatures range from 35.5°F (2°C) in the northeast to 48°F (9°C) in the south.\n",
    "                - **Summer**: Warm and sunny. Average temperatures range from 63°F (17°C) in the north to 77°F (25°C) along the Mediterranean coast.\n",
    "            \"\"\"\n",
    "    else:\n",
    "        return \"Destination not found\""
   ]
  },
  {
   "cell_type": "markdown",
   "metadata": {},
   "source": [
    "## Prepare Files"
   ]
  },
  {
   "cell_type": "code",
   "execution_count": 3,
   "metadata": {},
   "outputs": [],
   "source": [
    "from openai import AzureOpenAI\n",
    "\n",
    "# Create a client\n",
    "client = AzureOpenAI(\n",
    "    api_version=azure_openai_api_version,\n",
    "    azure_endpoint=azure_openai_endpoint,\n",
    "    api_key=azure_openai_key\n",
    ")\n",
    "\n",
    "# Create a vector store\n",
    "vector_store = client.beta.vector_stores.create(name=\"Hiking Products\")\n",
    "\n",
    "# Specify the folder containing the files\n",
    "folder_path = \"../Data/products/\"\n",
    "\n",
    "# Get all file paths in the folder\n",
    "file_paths = [os.path.join(folder_path, file_name) for file_name in os.listdir(folder_path)]\n",
    "\n",
    "# Open file streams\n",
    "file_streams = [open(path, \"rb\") for path in file_paths]\n",
    "\n",
    "# Use the upload and poll SDK helper to upload the files, add them to the vector store,\n",
    "# and poll the status of the file batch for completion.\n",
    "file_batch = client.beta.vector_stores.file_batches.upload_and_poll(\n",
    "    vector_store_id=vector_store.id, files=file_streams\n",
    ")"
   ]
  },
  {
   "cell_type": "code",
   "execution_count": null,
   "metadata": {},
   "outputs": [],
   "source": [
    "# You can print the status and the file counts of the batch to see the result of this operation.\n",
    "print(file_batch.status)\n",
    "print(file_batch.file_counts)\n",
    "print(vector_store.id)"
   ]
  },
  {
   "cell_type": "markdown",
   "metadata": {},
   "source": [
    "## Reformat citations with the proper filenames"
   ]
  },
  {
   "cell_type": "code",
   "execution_count": 5,
   "metadata": {},
   "outputs": [],
   "source": [
    "def reformat_citations(content_block):\n",
    "    # Extract the annotations\n",
    "    annotations = content_block.text.annotations\n",
    "    \n",
    "    # Original response\n",
    "    paragraph = content_block.text.value\n",
    "\n",
    "    # Dictionary to store key-value pairs of text and filename\n",
    "    text_filename_pairs = {}\n",
    "\n",
    "    # Iterate over the annotations and extract the relevant information\n",
    "    for annotation in annotations:\n",
    "        file_id = annotation.file_citation.file_id\n",
    "        text = annotation.text\n",
    "        cited_file = client.files.retrieve(file_id)\n",
    "        filename = cited_file.filename\n",
    "\n",
    "        if text not in text_filename_pairs:\n",
    "            text_filename_pairs[text] = []\n",
    "        text_filename_pairs[text].append(filename)\n",
    "\n",
    "    # Replace the citation texts with their corresponding filenames prefixed with \" Source: \"\n",
    "    for text, filenames in text_filename_pairs.items():\n",
    "        sources = \" Source: \" + \", \".join(filenames)\n",
    "        paragraph = paragraph.replace(text, sources)\n",
    "\n",
    "    return paragraph\n"
   ]
  },
  {
   "cell_type": "markdown",
   "metadata": {},
   "source": [
    "## Step 1-2:\n",
    "1. Create an Assistant\n",
    "2. Create a Thread"
   ]
  },
  {
   "cell_type": "code",
   "execution_count": null,
   "metadata": {},
   "outputs": [],
   "source": [
    "# Step 1: Create assistant\n",
    "assistant = client.beta.assistants.create(\n",
    "  name=\"Hiking Assistant\",\n",
    "  instructions=\"\"\"\n",
    "  You are a assistant that provides information. \n",
    "   You will answer questions based on files and tools provided to you about hiking information and products. \n",
    "   You will not provide answers outside of those files and tools.\n",
    "  \"\"\",\n",
    "  model=azure_openai_deployment,\n",
    "  tools=tools_function,\n",
    "  tool_resources={\"file_search\":{\"vector_store_ids\":[vector_store.id]}},\n",
    "  temperature=1,\n",
    "  top_p=1\n",
    ")\n",
    "\n",
    "# Step 2: Create thread\n",
    "thread = client.beta.threads.create()\n",
    "print(thread)"
   ]
  },
  {
   "cell_type": "markdown",
   "metadata": {},
   "source": [
    "## Step 3-6: Helper Function\n",
    "3. Add a message to the thread\n",
    "4. Run the Assistant\n",
    "5. Check the Run Status\n",
    "6. Display the Assistant's Response"
   ]
  },
  {
   "cell_type": "code",
   "execution_count": 7,
   "metadata": {},
   "outputs": [],
   "source": [
    "import time\n",
    "import json\n",
    "\n",
    "def run_assistant(user_question):\n",
    "  # Step 3: Add a question to the thread\n",
    "  messages = client.beta.threads.messages.create(\n",
    "    thread_id=thread.id,\n",
    "    role=\"user\",\n",
    "    content=user_question\n",
    "  )\n",
    "\n",
    "  # Step 4: Run the Assistant\n",
    "  run = client.beta.threads.runs.create(\n",
    "    thread_id=thread.id,\n",
    "    assistant_id=assistant.id\n",
    "  )\n",
    "\n",
    "  # Step 5: Check the Run Status\n",
    "  # Looping until the run completes or fails\n",
    "  while run.status in ['queued', 'in_progress', 'cancelling']:\n",
    "    time.sleep(1)\n",
    "    run = client.beta.threads.runs.retrieve(\n",
    "      thread_id=thread.id,\n",
    "      run_id=run.id\n",
    "    )\n",
    "\n",
    "    #display run status\n",
    "    print(run.status)\n",
    "\n",
    "    if run.status == 'completed':\n",
    "      messages = client.beta.threads.messages.list(thread_id=thread.id)\n",
    "\n",
    "      # Step 6: Display the Assistant's Response\n",
    "      content_block = messages.data[0].content[0]\n",
    "      annotations = content_block.text.annotations\n",
    "      if annotations is None:\n",
    "        value = content_block.text.value\n",
    "        print(value)\n",
    "      else:\n",
    "        print(reformat_citations(content_block))\n",
    "    \n",
    "    elif run.status == 'requires_action':\n",
    "      tool_outputs = []\n",
    "      for tool_call in run.required_action.submit_tool_outputs.tool_calls:\n",
    "        function_name = tool_call.function.name\n",
    "        print(\"Function Name: \", function_name)\n",
    "        function_args = json.loads(tool_call.function.arguments)\n",
    "        print(\"Function Arguments: \", function_args)    \n",
    "        \n",
    "        if function_name == \"get_destinations\":\n",
    "          function_response = get_destinations()\n",
    "        elif function_name == \"get_hiking_budget\":\n",
    "          function_response = get_hiking_budget()\n",
    "        elif function_name == \"get_weather\":\n",
    "          function_response = get_weather(country=function_args.get(\"country\"))    \n",
    "        else:\n",
    "          function_response = \"Unknown function\"\n",
    "        print(\"Function Response: \", function_response)\n",
    "\n",
    "        tool_outputs.append(\n",
    "          { \n",
    "            \"tool_call_id\": tool_call.id,\n",
    "            \"output\": str(function_response)\n",
    "          }\n",
    "        )\n",
    "        print(\"Tool output: \", tool_outputs)\n",
    "        run = client.beta.threads.runs.submit_tool_outputs(\n",
    "          thread_id=thread.id,\n",
    "          run_id=run.id,\n",
    "          tool_outputs = tool_outputs\n",
    "        )\n",
    "\n",
    "    elif run.status == \"failed\":\n",
    "        print(run.last_error)\n",
    "        \n",
    "    else:\n",
    "        pass"
   ]
  },
  {
   "cell_type": "code",
   "execution_count": null,
   "metadata": {},
   "outputs": [],
   "source": [
    "# Ask a question\n",
    "user_question =\"\"\"What is the price of the SummitClimber Backpack?\"\"\"\n",
    "run_assistant(user_question)"
   ]
  },
  {
   "cell_type": "markdown",
   "metadata": {},
   "source": [
    "## Step 7: Append Messages"
   ]
  },
  {
   "cell_type": "code",
   "execution_count": null,
   "metadata": {},
   "outputs": [],
   "source": [
    "user_question =\"\"\"What countries can I hike?\"\"\"\n",
    "run_assistant(user_question)"
   ]
  },
  {
   "cell_type": "code",
   "execution_count": null,
   "metadata": {},
   "outputs": [],
   "source": [
    "user_question =\"\"\"If I go to the US, how much money do I need for a 3 day hike?\"\"\"\n",
    "run_assistant(user_question)"
   ]
  },
  {
   "cell_type": "code",
   "execution_count": null,
   "metadata": {},
   "outputs": [],
   "source": [
    "user_question =\"\"\"What is the weather like there?\"\"\"\n",
    "run_assistant(user_question)"
   ]
  },
  {
   "cell_type": "code",
   "execution_count": null,
   "metadata": {},
   "outputs": [],
   "source": [
    "user_question =\"\"\"I have a total budget of $1000. \n",
    "If I will hike in the US for 3 days on a budget, what products can you recommend that I buy with the money left?\n",
    "\"\"\"\n",
    "run_assistant(user_question)"
   ]
  },
  {
   "cell_type": "code",
   "execution_count": null,
   "metadata": {},
   "outputs": [],
   "source": [
    "user_question =\"\"\"What country can I go to for 4 days with a budget of $165?\"\"\"\n",
    "run_assistant(user_question)"
   ]
  },
  {
   "cell_type": "markdown",
   "metadata": {},
   "source": [
    "## Delete Assistant"
   ]
  },
  {
   "cell_type": "code",
   "execution_count": 13,
   "metadata": {},
   "outputs": [],
   "source": [
    "response = client.beta.assistants.delete(assistant.id)"
   ]
  }
 ],
 "metadata": {
  "kernelspec": {
   "display_name": "Python 3",
   "language": "python",
   "name": "python3"
  },
  "language_info": {
   "codemirror_mode": {
    "name": "ipython",
    "version": 3
   },
   "file_extension": ".py",
   "mimetype": "text/x-python",
   "name": "python",
   "nbconvert_exporter": "python",
   "pygments_lexer": "ipython3",
   "version": "3.10.12"
  }
 },
 "nbformat": 4,
 "nbformat_minor": 2
}
