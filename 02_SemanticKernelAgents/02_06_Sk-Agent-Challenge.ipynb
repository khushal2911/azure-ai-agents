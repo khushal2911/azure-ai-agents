{
 "cells": [
  {
   "cell_type": "markdown",
   "metadata": {},
   "source": [
    "## Hiking Plugin\n",
    "\n",
    "Create a plugin called HikingPlugin that provides the following information:\n",
    "1. List of Destinations:\n",
    "    - United States\n",
    "    - Australia\n",
    "    - France\n",
    "    \n",
    "2. Hiking Budgets:\n",
    "    - United States:\n",
    "        - Budget Hikers: Around $50 per day. This includes camping, cooking your own meals, and using public transportation.\n",
    "        - Mid-Range Hikers: Approximately $150 per day. This covers mid-range accommodations, dining at average restaurants, and some paid attractions.\n",
    "        - Luxury Hikers: About $400 per day. This includes luxury lodges, fine dining, and private transportation.\n",
    "    - Australia:\n",
    "        - Budget Hikers: Around $40 per day. This includes camping, cooking your own meals, and using public transport.\n",
    "        - Mid-Range Hikers: Approximately $120 per day. This covers mid-range accommodations, dining at average restaurants, and some paid attractions.\n",
    "        - Luxury Hikers: About $350 per day. This includes luxury lodges, fine dining, and private transportation.  \n",
    "    - France:\n",
    "        - Budget Hikers: Around $45 per day. This includes camping, cooking your own meals, and using public transportation.\n",
    "        - Mid-Range Hikers: Approximately $130 per day. This covers mid-range accommodations, dining at average restaurants, and some paid attractions.\n",
    "        - Luxury Hikers: About $380 per day. This includes luxury lodges, fine dining, and private transportation.            \n",
    "\n",
    "3. Weather Information:\n",
    "    - United States:\n",
    "        The United States has a diverse climate. In general:\n",
    "        - **Winter**: Cold in the north, mild in the south. Average temperatures range from 26.6°F (-3°C) in Alaska to 70.7°F (21.5°C) in Florida.\n",
    "        - **Summer**: Hot and humid in the south, dry in the west. Average temperatures range from 52.7°F (11.5°C) to 70.7°F (21.5°C).\n",
    "    - Australia:\n",
    "        Australia experiences varied climates:\n",
    "        - **Winter**: Mild in the north, cooler in the south. Average temperatures range from 46°F (8°C) in Canberra to 77°F (25°C) in Darwin.\n",
    "        - **Summer**: Hot and dry in the interior, humid in the north. Average temperatures range from 68°F (20°C) in Hobart to 91°F (33°C) in Darwin.\n",
    "    - France:\n",
    "        France has several climate zones:\n",
    "        - **Winter**: Cold in the north, mild in the south. Average temperatures range from 35.5°F (2°C) in the northeast to 48°F (9°C) in the south.\n",
    "        - **Summer**: Warm and sunny. Average temperatures range from 63°F (17°C) in the north to 77°F (25°C) along the Mediterranean coast."
   ]
  }
 ],
 "metadata": {
  "language_info": {
   "name": "python"
  }
 },
 "nbformat": 4,
 "nbformat_minor": 2
}
