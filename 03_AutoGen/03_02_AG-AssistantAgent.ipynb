{
 "cells": [
  {
   "cell_type": "markdown",
   "metadata": {},
   "source": [
    "# AutoGen Assistant Agent"
   ]
  },
  {
   "cell_type": "markdown",
   "metadata": {},
   "source": [
    "## Install Library\n",
    "Get Latest Version here: https://microsoft.github.io/autogen/stable/user-guide/agentchat-user-guide/installation.html"
   ]
  },
  {
   "cell_type": "code",
   "execution_count": 1,
   "metadata": {},
   "outputs": [
    {
     "name": "stdout",
     "output_type": "stream",
     "text": [
      "Defaulting to user installation because normal site-packages is not writeable\n",
      "Requirement already satisfied: autogen-agentchat==0.4.2 in /home/vscode/.local/lib/python3.10/site-packages (0.4.2)\n",
      "Requirement already satisfied: autogen-ext==0.4.2 in /home/vscode/.local/lib/python3.10/site-packages (from autogen-ext[azure,docker,openai]==0.4.2) (0.4.2)\n",
      "Requirement already satisfied: autogen-core==0.4.2 in /home/vscode/.local/lib/python3.10/site-packages (from autogen-agentchat==0.4.2) (0.4.2)\n",
      "Requirement already satisfied: aiofiles in /home/vscode/.local/lib/python3.10/site-packages (from autogen-ext[azure,docker,openai]==0.4.2) (24.1.0)\n",
      "Requirement already satisfied: openai>=1.52.2 in /home/vscode/.local/lib/python3.10/site-packages (from autogen-ext[azure,docker,openai]==0.4.2) (1.59.8)\n",
      "Requirement already satisfied: tiktoken>=0.8.0 in /home/vscode/.local/lib/python3.10/site-packages (from autogen-ext[azure,docker,openai]==0.4.2) (0.8.0)\n",
      "Requirement already satisfied: docker~=7.0 in /home/vscode/.local/lib/python3.10/site-packages (from autogen-ext[azure,docker,openai]==0.4.2) (7.1.0)\n",
      "Requirement already satisfied: azure-core in /home/vscode/.local/lib/python3.10/site-packages (from autogen-ext[azure,docker,openai]==0.4.2) (1.32.0)\n",
      "Requirement already satisfied: azure-identity in /home/vscode/.local/lib/python3.10/site-packages (from autogen-ext[azure,docker,openai]==0.4.2) (1.19.0)\n",
      "Requirement already satisfied: jsonref~=1.1.0 in /home/vscode/.local/lib/python3.10/site-packages (from autogen-core==0.4.2->autogen-agentchat==0.4.2) (1.1.0)\n",
      "Requirement already satisfied: opentelemetry-api>=1.27.0 in /home/vscode/.local/lib/python3.10/site-packages (from autogen-core==0.4.2->autogen-agentchat==0.4.2) (1.29.0)\n",
      "Requirement already satisfied: pillow>=11.0.0 in /home/vscode/.local/lib/python3.10/site-packages (from autogen-core==0.4.2->autogen-agentchat==0.4.2) (11.1.0)\n",
      "Requirement already satisfied: protobuf~=4.25.1 in /home/vscode/.local/lib/python3.10/site-packages (from autogen-core==0.4.2->autogen-agentchat==0.4.2) (4.25.5)\n",
      "Requirement already satisfied: pydantic<3.0.0,>=2.10.0 in /home/vscode/.local/lib/python3.10/site-packages (from autogen-core==0.4.2->autogen-agentchat==0.4.2) (2.10.5)\n",
      "Requirement already satisfied: typing-extensions>=4.0.0 in /home/vscode/.local/lib/python3.10/site-packages (from autogen-core==0.4.2->autogen-agentchat==0.4.2) (4.12.2)\n",
      "Requirement already satisfied: requests>=2.26.0 in /home/vscode/.local/lib/python3.10/site-packages (from docker~=7.0->autogen-ext[azure,docker,openai]==0.4.2) (2.32.3)\n",
      "Requirement already satisfied: urllib3>=1.26.0 in /home/vscode/.local/lib/python3.10/site-packages (from docker~=7.0->autogen-ext[azure,docker,openai]==0.4.2) (2.3.0)\n",
      "Requirement already satisfied: anyio<5,>=3.5.0 in /home/vscode/.local/lib/python3.10/site-packages (from openai>=1.52.2->autogen-ext[azure,docker,openai]==0.4.2) (4.8.0)\n",
      "Requirement already satisfied: distro<2,>=1.7.0 in /home/vscode/.local/lib/python3.10/site-packages (from openai>=1.52.2->autogen-ext[azure,docker,openai]==0.4.2) (1.9.0)\n",
      "Requirement already satisfied: httpx<1,>=0.23.0 in /home/vscode/.local/lib/python3.10/site-packages (from openai>=1.52.2->autogen-ext[azure,docker,openai]==0.4.2) (0.28.1)\n",
      "Requirement already satisfied: jiter<1,>=0.4.0 in /home/vscode/.local/lib/python3.10/site-packages (from openai>=1.52.2->autogen-ext[azure,docker,openai]==0.4.2) (0.8.2)\n",
      "Requirement already satisfied: sniffio in /home/vscode/.local/lib/python3.10/site-packages (from openai>=1.52.2->autogen-ext[azure,docker,openai]==0.4.2) (1.3.1)\n",
      "Requirement already satisfied: tqdm>4 in /home/vscode/.local/lib/python3.10/site-packages (from openai>=1.52.2->autogen-ext[azure,docker,openai]==0.4.2) (4.67.1)\n",
      "Requirement already satisfied: regex>=2022.1.18 in /home/vscode/.local/lib/python3.10/site-packages (from tiktoken>=0.8.0->autogen-ext[azure,docker,openai]==0.4.2) (2024.11.6)\n",
      "Requirement already satisfied: six>=1.11.0 in /home/vscode/.local/lib/python3.10/site-packages (from azure-core->autogen-ext[azure,docker,openai]==0.4.2) (1.17.0)\n",
      "Requirement already satisfied: cryptography>=2.5 in /home/vscode/.local/lib/python3.10/site-packages (from azure-identity->autogen-ext[azure,docker,openai]==0.4.2) (44.0.0)\n",
      "Requirement already satisfied: msal>=1.30.0 in /home/vscode/.local/lib/python3.10/site-packages (from azure-identity->autogen-ext[azure,docker,openai]==0.4.2) (1.31.1)\n",
      "Requirement already satisfied: msal-extensions>=1.2.0 in /home/vscode/.local/lib/python3.10/site-packages (from azure-identity->autogen-ext[azure,docker,openai]==0.4.2) (1.2.0)\n",
      "Requirement already satisfied: exceptiongroup>=1.0.2 in /home/vscode/.local/lib/python3.10/site-packages (from anyio<5,>=3.5.0->openai>=1.52.2->autogen-ext[azure,docker,openai]==0.4.2) (1.2.2)\n",
      "Requirement already satisfied: idna>=2.8 in /home/vscode/.local/lib/python3.10/site-packages (from anyio<5,>=3.5.0->openai>=1.52.2->autogen-ext[azure,docker,openai]==0.4.2) (3.10)\n",
      "Requirement already satisfied: cffi>=1.12 in /home/vscode/.local/lib/python3.10/site-packages (from cryptography>=2.5->azure-identity->autogen-ext[azure,docker,openai]==0.4.2) (1.17.1)\n",
      "Requirement already satisfied: certifi in /home/vscode/.local/lib/python3.10/site-packages (from httpx<1,>=0.23.0->openai>=1.52.2->autogen-ext[azure,docker,openai]==0.4.2) (2024.12.14)\n",
      "Requirement already satisfied: httpcore==1.* in /home/vscode/.local/lib/python3.10/site-packages (from httpx<1,>=0.23.0->openai>=1.52.2->autogen-ext[azure,docker,openai]==0.4.2) (1.0.7)\n",
      "Requirement already satisfied: h11<0.15,>=0.13 in /home/vscode/.local/lib/python3.10/site-packages (from httpcore==1.*->httpx<1,>=0.23.0->openai>=1.52.2->autogen-ext[azure,docker,openai]==0.4.2) (0.14.0)\n",
      "Requirement already satisfied: PyJWT<3,>=1.0.0 in /home/vscode/.local/lib/python3.10/site-packages (from PyJWT[crypto]<3,>=1.0.0->msal>=1.30.0->azure-identity->autogen-ext[azure,docker,openai]==0.4.2) (2.10.1)\n",
      "Requirement already satisfied: portalocker<3,>=1.4 in /home/vscode/.local/lib/python3.10/site-packages (from msal-extensions>=1.2.0->azure-identity->autogen-ext[azure,docker,openai]==0.4.2) (2.10.1)\n",
      "Requirement already satisfied: deprecated>=1.2.6 in /home/vscode/.local/lib/python3.10/site-packages (from opentelemetry-api>=1.27.0->autogen-core==0.4.2->autogen-agentchat==0.4.2) (1.2.15)\n",
      "Requirement already satisfied: importlib-metadata<=8.5.0,>=6.0 in /home/vscode/.local/lib/python3.10/site-packages (from opentelemetry-api>=1.27.0->autogen-core==0.4.2->autogen-agentchat==0.4.2) (8.5.0)\n",
      "Requirement already satisfied: annotated-types>=0.6.0 in /home/vscode/.local/lib/python3.10/site-packages (from pydantic<3.0.0,>=2.10.0->autogen-core==0.4.2->autogen-agentchat==0.4.2) (0.7.0)\n",
      "Requirement already satisfied: pydantic-core==2.27.2 in /home/vscode/.local/lib/python3.10/site-packages (from pydantic<3.0.0,>=2.10.0->autogen-core==0.4.2->autogen-agentchat==0.4.2) (2.27.2)\n",
      "Requirement already satisfied: charset-normalizer<4,>=2 in /home/vscode/.local/lib/python3.10/site-packages (from requests>=2.26.0->docker~=7.0->autogen-ext[azure,docker,openai]==0.4.2) (3.4.1)\n",
      "Requirement already satisfied: pycparser in /home/vscode/.local/lib/python3.10/site-packages (from cffi>=1.12->cryptography>=2.5->azure-identity->autogen-ext[azure,docker,openai]==0.4.2) (2.22)\n",
      "Requirement already satisfied: wrapt<2,>=1.10 in /home/vscode/.local/lib/python3.10/site-packages (from deprecated>=1.2.6->opentelemetry-api>=1.27.0->autogen-core==0.4.2->autogen-agentchat==0.4.2) (1.17.2)\n",
      "Requirement already satisfied: zipp>=3.20 in /home/vscode/.local/lib/python3.10/site-packages (from importlib-metadata<=8.5.0,>=6.0->opentelemetry-api>=1.27.0->autogen-core==0.4.2->autogen-agentchat==0.4.2) (3.21.0)\n",
      "Note: you may need to restart the kernel to use updated packages.\n"
     ]
    }
   ],
   "source": [
    "%pip install \"autogen-agentchat==0.4.2\" \"autogen-ext[openai,azure,docker]==0.4.2\""
   ]
  },
  {
   "cell_type": "markdown",
   "metadata": {},
   "source": [
    "## Load Azure Configuration"
   ]
  },
  {
   "cell_type": "code",
   "execution_count": 9,
   "metadata": {},
   "outputs": [],
   "source": [
    "from dotenv import load_dotenv\n",
    "import os\n",
    "\n",
    "azure_openai_endpoint = os.getenv(\"AZURE_OPENAI_ENDPOINT\")\n",
    "azure_openai_key = os.getenv(\"AZURE_OPENAI_API_KEY\")\n",
    "azure_openai_deployment = os.getenv(\"AZURE_OPENAI_CHAT_DEPLOYMENT_NAME\")\n",
    "azure_openai_api_version = os.getenv(\"AZURE_OPENAI_API_VERSION\")"
   ]
  },
  {
   "cell_type": "markdown",
   "metadata": {},
   "source": [
    "## Create Azure OpenAI Client\n",
    "Using the model client class"
   ]
  },
  {
   "cell_type": "code",
   "execution_count": 10,
   "metadata": {},
   "outputs": [],
   "source": [
    "from autogen_ext.models.openai import AzureOpenAIChatCompletionClient\n",
    "from azure.identity import DefaultAzureCredential, get_bearer_token_provider\n",
    "\n",
    "# Create the token provider\n",
    "#token_provider = get_bearer_token_provider(DefaultAzureCredential(), \"https://cognitiveservices.azure.com/.default\")\n",
    "\n",
    "az_model_client = AzureOpenAIChatCompletionClient(\n",
    "    azure_deployment=azure_openai_deployment,\n",
    "    model=azure_openai_deployment,\n",
    "    api_version=azure_openai_api_version,\n",
    "    azure_endpoint=azure_openai_endpoint,\n",
    "    # azure_ad_token_provider=token_provider,  # Optional if you choose key-based authentication.\n",
    "    api_key=azure_openai_key, # For key-based authentication.\n",
    ")"
   ]
  },
  {
   "cell_type": "markdown",
   "metadata": {},
   "source": [
    "## Defining an Agent\n",
    "AssistantAgent is a built-in agent that uses a language model and has the ability to use tools."
   ]
  },
  {
   "cell_type": "code",
   "execution_count": 11,
   "metadata": {},
   "outputs": [],
   "source": [
    "from autogen_agentchat.agents import AssistantAgent\n",
    "from autogen_agentchat.ui import Console\n",
    "from autogen_core import CancellationToken\n",
    "\n",
    "# Define a tool\n",
    "async def get_weather(city: str) -> str:\n",
    "    return f\"The weather in {city} is 73 degrees and Sunny.\"\n",
    "\n",
    "# Define an agent\n",
    "weather_agent = AssistantAgent(\n",
    "    name=\"weather_agent\",\n",
    "    description=\"This agent provides weather information.\",\n",
    "    model_client=az_model_client,\n",
    "    tools=[get_weather],\n",
    "    system_message=\"\"\"\n",
    "    You are agent that assists with weather information.\n",
    "    If you are given an image, you will identify the city in the image and provide the weather information. \n",
    "    If you are asked about other topics, tell the user you can only provide weather information.\n",
    "    \"\"\",\n",
    ")"
   ]
  },
  {
   "cell_type": "markdown",
   "metadata": {},
   "source": [
    "## Text Message\n",
    "Create a text message, which accepts a string content and a string source"
   ]
  },
  {
   "cell_type": "code",
   "execution_count": null,
   "metadata": {},
   "outputs": [],
   "source": [
    "from autogen_agentchat.messages import TextMessage\n",
    "\n",
    "text_message = TextMessage(content=\"What's the weather in Chicago\", source=\"User\")\n",
    "\n",
    "# Run the team and stream messages to the console.\n",
    "stream = weather_agent.run_stream(task=text_message)\n",
    "await Console(stream)"
   ]
  },
  {
   "cell_type": "markdown",
   "metadata": {},
   "source": [
    "## MultiModal Message"
   ]
  },
  {
   "cell_type": "code",
   "execution_count": null,
   "metadata": {},
   "outputs": [],
   "source": [
    "from autogen_agentchat.messages import MultiModalMessage\n",
    "from autogen_core import Image as AGImage\n",
    "from PIL import Image\n",
    "from matplotlib import pyplot as plt\n",
    "import cv2\n",
    "\n",
    "img_path = \"../Data/images/AdobeStock_186373174.jpeg\"\n",
    "\n",
    "# Load the image using OpenCV.\n",
    "img = cv2.imread(img_path, cv2.IMREAD_UNCHANGED)\n",
    "# Convert the image from BGR to RGB for displaying with matplotlib, because OpenCV uses BGR by default and matplotlib expects RGB.\n",
    "img_rgb = cv2.cvtColor(img, cv2.COLOR_BGR2RGB)\n",
    "\n",
    "# Display the image with matplotlib.\n",
    "plt.imshow(img_rgb)\n",
    "plt.axis(\"off\")  # Turn off axis labels.\n",
    "plt.show()\n",
    "\n",
    "raw_image = Image.open(img_path)\n",
    "# Create an AGImage object from the raw image.\n",
    "img = AGImage(raw_image)\n",
    "multi_modal_message = MultiModalMessage(content=[\"What's the weather in this image?\", img], source=\"User\")\n",
    "\n",
    "# Run the team and stream messages to the console.\n",
    "stream = weather_agent.run_stream(task=multi_modal_message)\n",
    "await Console(stream)"
   ]
  },
  {
   "cell_type": "markdown",
   "metadata": {},
   "source": [
    "## Agents have State"
   ]
  },
  {
   "cell_type": "code",
   "execution_count": null,
   "metadata": {},
   "outputs": [],
   "source": [
    "text_message = TextMessage(content=\"What were the cities again that I asked about the weather?\", source=\"User\")\n",
    "\n",
    "# Run the team and stream messages to the console.\n",
    "stream = weather_agent.run_stream(task=text_message)\n",
    "await Console(stream)"
   ]
  },
  {
   "cell_type": "markdown",
   "metadata": {},
   "source": [
    "## Getting Responses"
   ]
  },
  {
   "cell_type": "markdown",
   "metadata": {},
   "source": [
    "1. on_messages() method returns a Response that contains the following attributes:\n",
    "- chat_message: contains agent’s final response \n",
    "- inner_messages: stores the agent’s “thought process” that led to the final response.\n",
    "2. on_messages() will update the internal state of the agent – it will add the messages to the agent’s history. \n",
    "- You should call this method with new messages.\n",
    "- You should NOT repeatedly call this method with the same messages or the complete history."
   ]
  },
  {
   "cell_type": "code",
   "execution_count": null,
   "metadata": {},
   "outputs": [],
   "source": [
    "img_path = \"../Data/images/AdobeStock_192483501.jpeg\"\n",
    "\n",
    "img = cv2.imread(img_path, cv2.IMREAD_UNCHANGED)\n",
    "# Convert the image from BGR to RGB for displaying with matplotlib, because OpenCV uses BGR by default and matplotlib expects RGB.\n",
    "img_rgb = cv2.cvtColor(img, cv2.COLOR_BGR2RGB)\n",
    "\n",
    "# Display the image with matplotlib.\n",
    "plt.imshow(img_rgb)\n",
    "plt.axis(\"off\")  # Turn off axis labels.\n",
    "plt.show()\n",
    "\n",
    "raw_image = Image.open(img_path )\n",
    "# Create an AGImage object from the raw image.\n",
    "img = AGImage(raw_image)\n",
    "multi_modal_message = MultiModalMessage(content=[\"What's the city where this image is located? Provide the weather there.\", img], source=\"User\")\n",
    "\n",
    "cancellation_token=CancellationToken()\n",
    "response = await weather_agent.on_messages(\n",
    "    [multi_modal_message],\n",
    "    cancellation_token=cancellation_token,\n",
    ")\n",
    "# contains the agent's \"thought process\"\n",
    "print(\"Thought process: \")\n",
    "print(response.inner_messages)\n",
    "print(\"\\n\")\n",
    "# contains the agent's final response\n",
    "print(\"Final Response: \")\n",
    "print(response.chat_message)\n",
    "print(\"\\n\")\n",
    "print(\"Final Response Content: \")\n",
    "print(response.chat_message.content)"
   ]
  },
  {
   "cell_type": "markdown",
   "metadata": {},
   "source": [
    "## Streaming Messages\n",
    "We can also stream each message as it is generated by the agent by using the on_messages_stream() method, and use Console to print the messages as they appear to the console."
   ]
  },
  {
   "cell_type": "code",
   "execution_count": null,
   "metadata": {},
   "outputs": [],
   "source": [
    "text_message = TextMessage(content=\"What were the cities again that I asked about the weather?\", source=\"User\")\n",
    "\n",
    "from IPython.display import display\n",
    "\n",
    "cancellation_token=CancellationToken()\n",
    "await Console(weather_agent.on_messages_stream(\n",
    "        [text_message],\n",
    "        cancellation_token=cancellation_token,)\n",
    "    )"
   ]
  },
  {
   "cell_type": "markdown",
   "metadata": {},
   "source": [
    "## Reset Agent to Initial State"
   ]
  },
  {
   "cell_type": "code",
   "execution_count": null,
   "metadata": {},
   "outputs": [],
   "source": [
    "cancellation_token=CancellationToken()\n",
    "# Reset the agent\n",
    "await weather_agent.on_reset(cancellation_token=cancellation_token)\n",
    "\n",
    "text_message = TextMessage(content=\"What were the cities again that I asked about the weather?\", source=\"User\")\n",
    "response = await weather_agent.on_messages(\n",
    "        [text_message],\n",
    "        cancellation_token=cancellation_token,\n",
    "    )\n",
    "print(response.chat_message.content)\n",
    "\n",
    "# Reset the agent again\n",
    "await weather_agent.on_reset(cancellation_token=cancellation_token)\n",
    "\n"
   ]
  },
  {
   "cell_type": "markdown",
   "metadata": {},
   "source": [
    "## Using Model Context\n",
    "AssistantAgent has a model_context parameter that can be used to pass in a ChatCompletionContext object. This allows the agent to use different model contexts, such as BufferedChatCompletionContext to limit the context sent to the model.\n",
    "\n",
    "By default, AssistantAgent uses the UnboundedChatCompletionContext which sends the full conversation history to the model. To limit the context to the last n messages, you can use the BufferedChatCompletionContext."
   ]
  },
  {
   "cell_type": "code",
   "execution_count": 18,
   "metadata": {},
   "outputs": [],
   "source": [
    "from autogen_core.model_context import BufferedChatCompletionContext\n",
    "from autogen_agentchat.agents import AssistantAgent\n",
    "from autogen_agentchat.ui import Console\n",
    "from autogen_core import CancellationToken\n",
    "from autogen_agentchat.messages import TextMessage\n",
    "\n",
    "# Define a tool\n",
    "async def get_weather(city: str) -> str:\n",
    "    return f\"The weather in {city} is 73 degrees and Sunny.\"\n",
    "\n",
    "# Define an agent\n",
    "weather_agent = AssistantAgent(\n",
    "    name=\"weather_agent\",\n",
    "    description=\"This agent provides weather information.\",\n",
    "    model_client=az_model_client,\n",
    "    tools=[get_weather],\n",
    "    system_message=\"\"\"\n",
    "    You are agent that assists with weather information.\n",
    "    \"\"\",\n",
    "    model_context=BufferedChatCompletionContext(buffer_size=8),  \n",
    ")"
   ]
  },
  {
   "cell_type": "code",
   "execution_count": null,
   "metadata": {},
   "outputs": [],
   "source": [
    "text_message = TextMessage(content=\"What is the weather in Chicago?\", source=\"User\")\n",
    "stream = weather_agent.run_stream(task=text_message)\n",
    "await Console(stream)\n",
    "print(\"\\n\")\n",
    "\n",
    "text_message = TextMessage(content=\"How about in New York?\", source=\"User\")\n",
    "stream = weather_agent.run_stream(task=text_message)\n",
    "await Console(stream)\n",
    "print(\"\\n\")\n",
    "\n",
    "text_message = TextMessage(content=\"What's it like in Tokyo?\", source=\"User\")\n",
    "stream = weather_agent.run_stream(task=text_message)\n",
    "await Console(stream)\n",
    "print(\"\\n\")"
   ]
  },
  {
   "cell_type": "code",
   "execution_count": null,
   "metadata": {},
   "outputs": [],
   "source": [
    "text_message = TextMessage(content=\"What was the weather in the first city again?\", source=\"User\")\n",
    "stream = weather_agent.run_stream(task=text_message)\n",
    "await Console(stream)\n",
    "print(\"\\n\")\n",
    "\n",
    "## New York is the first city in the context given that each interaction was 4 messages."
   ]
  },
  {
   "cell_type": "markdown",
   "metadata": {},
   "source": [
    "# Save and Load Agent State"
   ]
  },
  {
   "cell_type": "code",
   "execution_count": null,
   "metadata": {},
   "outputs": [],
   "source": [
    "import json\n",
    "\n",
    "state = await weather_agent.save_state()\n",
    "\n",
    "# (Optional) Write state to disk.\n",
    "with open(\"assistant_state.json\", \"w\") as f:\n",
    "    json.dump(state, f)\n",
    "\n",
    "# (Optional) Load it back from disk.\n",
    "with open(\"assistant_state.json\", \"r\") as f:\n",
    "    state = json.load(f)\n",
    "    print(state) # Inspect the state, which contains the chat history.\n",
    "\n",
    "# Carry on the chat.\n",
    "response = await weather_agent.on_messages([TextMessage(content=\"What is the weather in Rome?\", source=\"user\")], cancellation_token=CancellationToken())\n",
    "print(response.chat_message.content)\n"
   ]
  },
  {
   "cell_type": "code",
   "execution_count": null,
   "metadata": {},
   "outputs": [],
   "source": [
    "# Carry on the same chat again.\n",
    "response = await weather_agent.on_messages([TextMessage(content=\"What was the weather in the first city again?\", source=\"user\")], cancellation_token=CancellationToken())\n",
    "print(response.chat_message.content)"
   ]
  },
  {
   "cell_type": "code",
   "execution_count": null,
   "metadata": {},
   "outputs": [],
   "source": [
    "\n",
    "# Load the state, resulting the agent to revert to the previous state before the last message.\n",
    "await weather_agent.load_state(state)\n",
    "\n",
    "# Carry on the same chat again.\n",
    "response = await weather_agent.on_messages([TextMessage(content=\"What was the weather in the first city again?\", source=\"user\")], cancellation_token=CancellationToken())\n",
    "print(response.chat_message.content)"
   ]
  }
 ],
 "metadata": {
  "kernelspec": {
   "display_name": "Python 3",
   "language": "python",
   "name": "python3"
  },
  "language_info": {
   "codemirror_mode": {
    "name": "ipython",
    "version": 3
   },
   "file_extension": ".py",
   "mimetype": "text/x-python",
   "name": "python",
   "nbconvert_exporter": "python",
   "pygments_lexer": "ipython3",
   "version": "3.10.12"
  }
 },
 "nbformat": 4,
 "nbformat_minor": 2
}
