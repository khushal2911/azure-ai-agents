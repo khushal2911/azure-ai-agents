{
 "cells": [
  {
   "cell_type": "markdown",
   "metadata": {},
   "source": [
    "# AutoGen Other Agents\n",
    "\n",
    "Samples of other preset agents"
   ]
  },
  {
   "cell_type": "markdown",
   "metadata": {},
   "source": [
    "## Load Azure Configuration"
   ]
  },
  {
   "cell_type": "code",
   "execution_count": 11,
   "metadata": {},
   "outputs": [],
   "source": [
    "from dotenv import load_dotenv\n",
    "import os\n",
    "\n",
    "azure_openai_endpoint = os.getenv(\"AZURE_OPENAI_ENDPOINT\")\n",
    "azure_openai_key = os.getenv(\"AZURE_OPENAI_API_KEY\")\n",
    "azure_openai_deployment = os.getenv(\"AZURE_OPENAI_CHAT_DEPLOYMENT_NAME\")\n",
    "azure_openai_api_version = os.getenv(\"AZURE_OPENAI_API_VERSION\")"
   ]
  },
  {
   "cell_type": "markdown",
   "metadata": {},
   "source": [
    "## Create Azure OpenAI Client\n",
    "Using the model client class"
   ]
  },
  {
   "cell_type": "code",
   "execution_count": 12,
   "metadata": {},
   "outputs": [],
   "source": [
    "from autogen_ext.models.openai import AzureOpenAIChatCompletionClient, OpenAIChatCompletionClient\n",
    "from azure.identity import DefaultAzureCredential, get_bearer_token_provider\n",
    "\n",
    "# Create the token provider\n",
    "#token_provider = get_bearer_token_provider(DefaultAzureCredential(), \"https://cognitiveservices.azure.com/.default\")\n",
    "\n",
    "az_model_client = AzureOpenAIChatCompletionClient(\n",
    "    azure_deployment=azure_openai_deployment,\n",
    "    model=azure_openai_deployment,\n",
    "    api_version=azure_openai_api_version,\n",
    "    azure_endpoint=azure_openai_endpoint,\n",
    "    # azure_ad_token_provider=token_provider,  # Optional if you choose key-based authentication.\n",
    "    api_key=azure_openai_key, # For key-based authentication.\n",
    ")\n"
   ]
  },
  {
   "cell_type": "markdown",
   "metadata": {},
   "source": [
    "# Multimodal Web Surfer\n",
    "MultimodalWebSurfer is a multimodal agent that acts as a web surfer that can search the web and visit web pages.\n",
    "\n",
    "Note: Need to run in terminal: \n",
    "- playwright install\n",
    "- playwright install-deps"
   ]
  },
  {
   "cell_type": "code",
   "execution_count": null,
   "metadata": {},
   "outputs": [],
   "source": [
    "# Install the library\n",
    "%pip install \"autogen-ext[web-surfer]==0.4.2\""
   ]
  },
  {
   "cell_type": "code",
   "execution_count": 13,
   "metadata": {},
   "outputs": [
    {
     "name": "stdout",
     "output_type": "stream",
     "text": [
      "Current Date: 2025-01-19\n",
      "---------- user ----------\n",
      "Today is 2025-01-19. What is the weather like in New York?\n",
      "---------- MultimodalWebSurfer ----------\n",
      "I typed 'current weather in New York' into '0 characters out of 2000'.\n",
      "\n",
      " Here is a screenshot of the webpage: [current weather in New York - Search](https://www.bing.com/search?q=current+weather+in+New+York&form=QBLH&sp=-1&lq=0&pq=&sc=0-0&qs=n&sk=&cvid=9C8033DB0AEF4E85ABB8D790395472A0&ghsh=0&ghacc=0&ghpl=).\n",
      " The viewport shows 25% of the webpage, and is positioned at the top of the page \n",
      "The following metadata was extracted from the webpage:\n",
      "\n",
      "{\n",
      "    \"meta_tags\": {\n",
      "        \"referrer\": \"origin-when-cross-origin\",\n",
      "        \"SystemEntropyOriginTrialToken\": \"A1L3tx5CzccqjN3lK6st/fXMwhf9EeokCPf8XCt0DVI8JPbg37BWq0zKvlqgkdm8YEUbthoGkC/xdR1+iIz4txAAAABxeyJvcmlnaW4iOiJodHRwczovL3d3dy5iaW5nLmNvbTo0NDMiLCJmZWF0dXJlIjoiTXNVc2VyQWdlbnRMYXVuY2hOYXZUeXBlIiwiZXhwaXJ5IjoxNzM5NzI0MzExLCJpc1N1YmRvbWFpbiI6dHJ1ZX0=\",\n",
      "        \"og:description\": \"Intelligent search from Bing makes it easier to quickly find what you\\u2019re looking for and rewards you.\",\n",
      "        \"og:site_name\": \"Bing\",\n",
      "        \"og:title\": \"current weather in New York - Bing\",\n",
      "        \"og:url\": \"https://www.bing.com/search?q=current+weather+in+New+York&form=QBLH&sp=-1&lq=0&pq=&sc=0-0&qs=n&sk=&cvid=9C8033DB0AEF4E85ABB8D790395472A0&ghsh=0&ghacc=0&ghpl=\",\n",
      "        \"fb:app_id\": \"3732605936979161\",\n",
      "        \"og:image\": \"http://www.bing.com/sa/simg/facebook_sharing_5.png\",\n",
      "        \"og:type\": \"website\",\n",
      "        \"og:image:width\": \"600\",\n",
      "        \"og:image:height\": \"315\"\n",
      "    }\n",
      "}\n",
      "\n",
      "The first 50 lines of the page text is:\n",
      "\n",
      "Skip to content\n",
      "current weather in New York\n",
      "Deep search\n",
      "WEBCOPILOTNEWSIMAGESVIDEOSMAPS\n",
      "MORE\n",
      "TOOLS\n",
      "About 220,000,000 results\n",
      "Winter Weather - Advisory\n",
      "New York, United States\n",
      "Updated a few minutes ago\n",
      "4\n",
      "°C\n",
      "F\n",
      "7°\n",
      "2°\n",
      "Wind: 7 KMPH\n",
      "Humidity: 87%\n",
      "Mostly cloudySat 18, 10:37 pm\n",
      "11 PM\n",
      "2 AM\n",
      "5 AM\n",
      "8 AM\n",
      "11 AM\n",
      "2 PM\n",
      "5 PM\n",
      "8 PM\n",
      "1 AM\n",
      "4 AM\n",
      "7 AM\n",
      "10 AM\n",
      "1 PM\n",
      "4 PM\n",
      "7 PM\n",
      "10 PM\n",
      "1 AM\n",
      "4 AM\n",
      "7 AM\n",
      "10 AM\n",
      "1 PM\n",
      "4 PM\n",
      "7 PM\n",
      "10 PM\n",
      "1 AM\n",
      "4 AM\n",
      "7 AM\n",
      "10 AM\n",
      "1 PM\n",
      "4 PM\n",
      "7 PM\n",
      "10 PM\n",
      "<image>\n",
      "---------- MultimodalWebSurfer ----------\n",
      "The current weather in New York is as follows:\n",
      "- Temperature: 4°C (7°C high, 2°C low)\n",
      "- Wind: 7 KMPH\n",
      "- Humidity: 87%\n",
      "- Conditions: Mostly cloudy\n",
      "\n",
      "The weather forecast for the upcoming days:\n",
      "- Sat 18: Mostly cloudy, 7°C / 2°C\n",
      "- Sun 19: Rain and snow showers, 4° / -9°\n",
      "- Mon 20: Mostly sunny, -4° / -13°\n",
      "- Tue 21: Partly sunny, -9° / -12°\n",
      "- Wed 22: Sunny, -8° / -12°\n",
      "- Thu 23: Sunny, -4° / -9°\n",
      "- Fri 24: Partly sunny, 0° / -5°\n",
      "- Sat 25: Partly sunny, 0° / -2°\n",
      "\n",
      "Other conditions include a light breeze and a sunrise at 07:16 AM with sunset at 04:56 PM.\n",
      "---------- MultimodalWebSurfer ----------\n",
      "New York City is currently experiencing mostly cloudy conditions with a temperature of 4°C (39°F) and a feels-like temperature of 2°C (35.6°F). The wind is blowing from the West at 7 KMPH (4.3 MPH) and the humidity level is at 87%. The forecast for the upcoming days includes cloudy and sunny periods, with temperatures ranging between 4°C (39°F) and -9°C (15.8°F). The weather report is accessible via multiple sources such as AccuWeather, The Weather Network, FOX Weather, Weather Atlas, TimeAndDate, National Weather Service, and The Weather Channel, providing detailed information on current conditions, forecasts, and weather-related health advisories.\n"
     ]
    }
   ],
   "source": [
    "from autogen_agentchat.ui import Console\n",
    "from autogen_agentchat.teams import RoundRobinGroupChat\n",
    "from autogen_ext.agents.web_surfer import MultimodalWebSurfer\n",
    "from datetime import datetime\n",
    "\n",
    "# Get the current date and time\n",
    "now = datetime.now()\n",
    "# Extract the date part\n",
    "current_date = now.date()\n",
    "print(\"Current Date:\", current_date)\n",
    "\n",
    "# Define an agent\n",
    "web_surfer_agent = MultimodalWebSurfer(\n",
    "    name=\"MultimodalWebSurfer\",\n",
    "    model_client=az_model_client,\n",
    ")\n",
    "\n",
    "# Define a team\n",
    "agent_team = RoundRobinGroupChat([web_surfer_agent], max_turns=3)\n",
    "\n",
    "# Run the team and stream messages to the console\n",
    "stream = agent_team.run_stream(\n",
    "  task=f\"Today is {current_date}. What is the weather like in New York?\")\n",
    "await Console(stream)\n",
    "# Close the browser controlled by the agent\n",
    "await web_surfer_agent.close()\n"
   ]
  },
  {
   "cell_type": "markdown",
   "metadata": {},
   "source": [
    "## OpenAI Assistant Agent\n",
    "\n",
    "An agent implementation that uses the OpenAI Assistant API to generate responses.\n",
    "\n",
    "This agent leverages the OpenAI Assistant API to create AI assistants with capabilities like:\n",
    "- Code interpretation and execution\n",
    "- File handling and search\n",
    "- Custom function calling\n",
    "- Multi-turn conversations\n",
    "\n",
    "The agent maintains a thread of conversation and can use various tools including\n",
    "- Code interpreter: For executing code and working with files\n",
    "- File search: For searching through uploaded documents\n",
    "- Custom functions: For extending capabilities with user-defined tools\n",
    "\n",
    "Key Features:\n",
    "- Supports multiple file formats including code, documents, images\n",
    "- Can handle up to 128 tools per assistant\n",
    "- Maintains conversation context in threads\n",
    "- Supports file uploads for code interpreter and search\n",
    "- Vector store integration for efficient file search\n",
    "- Automatic file parsing and embedding"
   ]
  },
  {
   "cell_type": "markdown",
   "metadata": {},
   "source": [
    "## File Search"
   ]
  },
  {
   "cell_type": "code",
   "execution_count": 14,
   "metadata": {},
   "outputs": [],
   "source": [
    "from autogen_core import CancellationToken\n",
    "from autogen_ext.agents.openai import OpenAIAssistantAgent\n",
    "from autogen_agentchat.messages import TextMessage\n",
    "from openai import AsyncAzureOpenAI\n",
    "\n",
    "cancellation_token = CancellationToken()\n",
    "\n",
    "# Create AzureOpenAI client\n",
    "client = AsyncAzureOpenAI(azure_endpoint=azure_openai_endpoint, \n",
    "                          api_version=azure_openai_api_version, \n",
    "                          api_key=azure_openai_key)\n",
    "\n",
    "\n",
    "#### Create a vector store for file search ####\n",
    "vector_store = await client.beta.vector_stores.create(name=\"Hiking Products\")\n",
    "# Specify the folder containing the files\n",
    "folder_path = \"../Data/products/\"\n",
    "# Get all file paths in the folder\n",
    "file_paths = [os.path.join(folder_path, file_name) for file_name in os.listdir(folder_path)]\n",
    "# Open file streams\n",
    "file_streams = [open(path, \"rb\") for path in file_paths]\n",
    "# Use the upload and poll SDK helper to upload the files, add them to the vector store,\n",
    "# and poll the status of the file batch for completion.\n",
    "file_batch = await client.beta.vector_stores.file_batches.upload_and_poll(\n",
    "    vector_store_id=vector_store.id, files=file_streams\n",
    ")\n",
    "# Close file streams\n",
    "for file in file_streams:\n",
    "    file.close()\n"
   ]
  },
  {
   "cell_type": "code",
   "execution_count": 15,
   "metadata": {},
   "outputs": [
    {
     "name": "stdout",
     "output_type": "stream",
     "text": [
      "completed\n",
      "FileCounts(cancelled=0, completed=20, failed=0, in_progress=0, total=20)\n",
      "vs_eDXlrNDhQWyoWTMfy824B9Z2\n"
     ]
    }
   ],
   "source": [
    "# You can print the status and the file counts of the batch to see the result of this operation.\n",
    "print(file_batch.status)\n",
    "print(file_batch.file_counts)\n",
    "print(vector_store.id)"
   ]
  },
  {
   "cell_type": "code",
   "execution_count": 16,
   "metadata": {},
   "outputs": [
    {
     "name": "stdout",
     "output_type": "stream",
     "text": [
      "The price of the Adventure Dining Table is $90【4:0†source】.\n"
     ]
    }
   ],
   "source": [
    "#### Create an assistant with file search ####\n",
    "assistant = OpenAIAssistantAgent(\n",
    "    name=\"DataAssistant\",\n",
    "    description=\"Answer questions about data\",\n",
    "    client=client,\n",
    "    model=azure_openai_deployment,\n",
    "    instructions=\"You will answer questions about the product files given to you\",\n",
    "    tools=[\"file_search\"],\n",
    "    tool_resources={\"file_search\":{\"vector_store_ids\":[vector_store.id]}}\n",
    ")\n",
    "\n",
    "# Get response from the assistant\n",
    "user_input = TextMessage(source=\"user\", content=\"What is the price of the Adventure Dining Table in the file search product set?\")\n",
    "response = await assistant.on_messages([user_input], cancellation_token\n",
    ")\n",
    "print(response.chat_message.content)\n",
    "\n",
    "# Clean up resources\n",
    "await assistant.delete_uploaded_files(cancellation_token)\n",
    "await assistant.delete_assistant(cancellation_token)"
   ]
  },
  {
   "cell_type": "markdown",
   "metadata": {},
   "source": [
    "## Code Interpreter"
   ]
  },
  {
   "cell_type": "code",
   "execution_count": 17,
   "metadata": {},
   "outputs": [
    {
     "name": "stdout",
     "output_type": "stream",
     "text": [
      "The state with the most sightings is Washington, with a total of 601 sightings.\n"
     ]
    }
   ],
   "source": [
    "#### Create a file for code interpreter ####\n",
    "file=open(\"../Data/assistant/bigfootsightings.csv\", \"rb\")\n",
    "code_interpreter_file = await client.files.create(\n",
    "  file=file,\n",
    "  purpose='assistants'\n",
    ")\n",
    "file.close()\n",
    "\n",
    "#### Create an assistant with code interpreter ####\n",
    "assistant = OpenAIAssistantAgent(\n",
    "    name=\"DataAssistant\",\n",
    "    description=\"Answer questions about data\",\n",
    "    client=client,\n",
    "    model=azure_openai_deployment,\n",
    "    instructions=\"You will use Python to answer questions about a dataset\",\n",
    "    tools=[\"code_interpreter\"],\n",
    "    tool_resources={\"code_interpreter\":{\"file_ids\":[code_interpreter_file.id]}}\n",
    ")\n",
    "\n",
    "# Get response from the assistant\n",
    "user_input = TextMessage(source=\"user\", content=\"\"\"Use the code interpreter file. \n",
    "                         Which state has the most sightings? Provide the number of sightings in that state\"\"\")\n",
    "response = await assistant.on_messages([user_input], cancellation_token\n",
    ")\n",
    "print(response.chat_message.content)\n",
    "\n",
    "# Clean up resources\n",
    "await assistant.delete_uploaded_files(cancellation_token)\n",
    "await assistant.delete_assistant(cancellation_token)"
   ]
  },
  {
   "cell_type": "markdown",
   "metadata": {},
   "source": [
    "## Code Executor Agent\n",
    "An agent that extracts and executes code snippets found in received messages and returns the output.\n",
    "\n",
    "It is typically used within a team with another agent that generates code snippets to be executed."
   ]
  },
  {
   "cell_type": "code",
   "execution_count": null,
   "metadata": {},
   "outputs": [],
   "source": [
    "%pip install \"autogen-ext[docker]\""
   ]
  },
  {
   "cell_type": "code",
   "execution_count": 18,
   "metadata": {},
   "outputs": [
    {
     "name": "stdout",
     "output_type": "stream",
     "text": [
      "source='code_executor' models_usage=None content='Hello world\\n' type='TextMessage'\n"
     ]
    }
   ],
   "source": [
    "from autogen_agentchat.agents import CodeExecutorAgent\n",
    "from autogen_agentchat.messages import TextMessage\n",
    "from autogen_ext.code_executors.docker import DockerCommandLineCodeExecutor\n",
    "from autogen_core import CancellationToken\n",
    "\n",
    "\n",
    "# Create a code executor agent that uses a Docker container to execute code.\n",
    "docker_code_executor = DockerCommandLineCodeExecutor(work_dir=\"coding\")\n",
    "\n",
    "# Start the docker code executor.\n",
    "await docker_code_executor.start()\n",
    "\n",
    "# Create a code executor agent.\n",
    "code_executor_agent = CodeExecutorAgent(\"code_executor\", code_executor=docker_code_executor)\n",
    "\n",
    "# Run the agent with a given code snippet.\n",
    "task = TextMessage(\n",
    "    content='''Here is some code\n",
    "    ```python\n",
    "print('Hello world')\n",
    "    ```\n",
    "    ''',\n",
    "    source=\"user\",\n",
    ")\n",
    "\n",
    "response = await code_executor_agent.on_messages([task], CancellationToken())\n",
    "print(response.chat_message)\n",
    "\n",
    "# Stop the docker code executor.\n",
    "await docker_code_executor.stop()\n"
   ]
  }
 ],
 "metadata": {
  "kernelspec": {
   "display_name": "Python 3",
   "language": "python",
   "name": "python3"
  },
  "language_info": {
   "codemirror_mode": {
    "name": "ipython",
    "version": 3
   },
   "file_extension": ".py",
   "mimetype": "text/x-python",
   "name": "python",
   "nbconvert_exporter": "python",
   "pygments_lexer": "ipython3",
   "version": "3.10.12"
  }
 },
 "nbformat": 4,
 "nbformat_minor": 2
}
