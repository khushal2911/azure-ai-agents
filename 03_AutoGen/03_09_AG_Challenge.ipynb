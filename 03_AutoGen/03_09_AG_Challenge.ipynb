{
 "cells": [
  {
   "cell_type": "markdown",
   "metadata": {},
   "source": [
    "# AutoGen Challenge\n",
    "\n",
    "## Objective\n",
    "Create a team of agents that will provide you a document that contains the following:\n",
    "1. Hiking Plan\n",
    "2. Weather Forecast for the location you want to hike\n",
    "3. Product recommendations for your hike.\n",
    "\n",
    "Document must be saved in AutoGen/output folder\n",
    "\n",
    "## Resources\n",
    "1. Implement an Azure OpenAI model with GPT-4o model.\n",
    "\n",
    "## Create the following agents\n",
    "1. Planning Agent that delegates tasks.\n",
    "2. Multimodal Web Surfer that looks for weather info in the internet.\n",
    "3. Hiking Agent that provides a hiking plan\n",
    "4. Product Agent that provides product recommendations from a file search tool. (Hint: Use OpenAI Assistants Agent and don't forget to cleanup after)\n",
    "5. Writing Agent that creates a document that contains inputs from the weather, hiking plan, and product recommendations.\n",
    "6. Critique Agent that critiques the other agents\n",
    "7. Add a User proxy for a person to intervene.\n",
    "\n",
    "## Team\n",
    "1. Use the SelectorGroupChat\n",
    "2. Terminate when \"APPROVE\" is seen OR Terminate after 50 turns whichever come first.\n",
    "\n",
    "## Test\n",
    "1. Input a prompt such as: I want to hike in the Grand Canyon, Arizona, USA.\n",
    "2. When user intervenes, have the team modify the document:\n",
    "    - Add Product prices if not yet added\n",
    "    - Add Pros and cons for using each product\n",
    "    - Make the itinerary a 2 day hike\n",
    "\n"
   ]
  }
 ],
 "metadata": {
  "language_info": {
   "name": "python"
  }
 },
 "nbformat": 4,
 "nbformat_minor": 2
}
