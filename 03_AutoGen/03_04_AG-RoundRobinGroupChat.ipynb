{
 "cells": [
  {
   "cell_type": "markdown",
   "metadata": {},
   "source": [
    "# AutoGen RoundRobinGroupChat\n",
    "A team is a group of agents that work together to achieve a common goal.\n"
   ]
  },
  {
   "cell_type": "markdown",
   "metadata": {},
   "source": [
    "## Load Azure Configurations"
   ]
  },
  {
   "cell_type": "code",
   "execution_count": 1,
   "metadata": {},
   "outputs": [],
   "source": [
    "from dotenv import load_dotenv\n",
    "import os\n",
    "\n",
    "azure_openai_endpoint = os.getenv(\"AZURE_OPENAI_ENDPOINT\")\n",
    "azure_openai_key = os.getenv(\"AZURE_OPENAI_API_KEY\")\n",
    "azure_openai_deployment = os.getenv(\"AZURE_OPENAI_CHAT_DEPLOYMENT_NAME\")\n",
    "azure_openai_api_version = os.getenv(\"AZURE_OPENAI_API_VERSION\")"
   ]
  },
  {
   "cell_type": "markdown",
   "metadata": {},
   "source": [
    "## Create Azure OpenAI Client\n",
    "Using the model client class"
   ]
  },
  {
   "cell_type": "code",
   "execution_count": 2,
   "metadata": {},
   "outputs": [],
   "source": [
    "from autogen_ext.models.openai import AzureOpenAIChatCompletionClient\n",
    "from azure.identity import DefaultAzureCredential, get_bearer_token_provider\n",
    "\n",
    "# Create the token provider\n",
    "#token_provider = get_bearer_token_provider(DefaultAzureCredential(), \"https://cognitiveservices.azure.com/.default\")\n",
    "\n",
    "az_model_client = AzureOpenAIChatCompletionClient(\n",
    "    azure_deployment=azure_openai_deployment,\n",
    "    model=azure_openai_deployment,\n",
    "    api_version=azure_openai_api_version,\n",
    "    azure_endpoint=azure_openai_endpoint,\n",
    "    # azure_ad_token_provider=token_provider,  # Optional if you choose key-based authentication.\n",
    "    api_key=azure_openai_key, # For key-based authentication.\n",
    ")"
   ]
  },
  {
   "cell_type": "markdown",
   "metadata": {},
   "source": [
    "## Creating a Team\n",
    "\n",
    "RoundRobinGroupChat is a team configuration where all agents share the same context and take turns responding in a round-robin fashion. Each agent, during its turn, broadcasts its response to all other agents, ensuring that the entire team maintains a consistent context.\n",
    "\n",
    "We create a team with two AssistantAgent and a TextMentionTermination condition that stops the team when a specific word is detected in the agent’s response."
   ]
  },
  {
   "cell_type": "code",
   "execution_count": 3,
   "metadata": {},
   "outputs": [],
   "source": [
    "import asyncio\n",
    "\n",
    "from autogen_agentchat.agents import AssistantAgent\n",
    "from autogen_agentchat.base import TaskResult\n",
    "from autogen_agentchat.conditions import ExternalTermination, TextMentionTermination\n",
    "from autogen_agentchat.teams import RoundRobinGroupChat\n",
    "from autogen_agentchat.ui import Console\n",
    "from autogen_core import CancellationToken\n",
    "\n",
    "# Create the primary agent.\n",
    "primary_agent = AssistantAgent(\n",
    "    \"primary\",\n",
    "    model_client=az_model_client,\n",
    "    system_message=\"You are a helpful AI assistant.\",\n",
    ")\n",
    "# Create the critic agent.\n",
    "critic_agent = AssistantAgent(\n",
    "    \"critic\",\n",
    "    model_client=az_model_client,\n",
    "    system_message=\"Provide constructive feedback. Respond with 'APPROVE' to when your feedbacks are addressed.\",\n",
    ")\n",
    "\n",
    "# Define a termination condition that stops the task if the critic approves.\n",
    "text_termination = TextMentionTermination(\"APPROVE\")\n",
    "\n",
    "# Create a team with the primary and critic agents.\n",
    "team = RoundRobinGroupChat([primary_agent, critic_agent], termination_condition=text_termination)"
   ]
  },
  {
   "cell_type": "markdown",
   "metadata": {},
   "source": [
    "## Running a Team\n",
    "Call the run() method to start the team with a task.\n",
    "\n",
    "The termination condition was met when the word “APPROVE” is detected in the agent’s response. When the team stops, it returns a TaskResult object with all the messages produced by the agents in the team."
   ]
  },
  {
   "cell_type": "code",
   "execution_count": 4,
   "metadata": {},
   "outputs": [
    {
     "name": "stdout",
     "output_type": "stream",
     "text": [
      "messages=[TextMessage(source='user', models_usage=None, metadata={}, created_at=datetime.datetime(2025, 6, 22, 20, 49, 59, 378389, tzinfo=datetime.timezone.utc), content='Write a short poem about the fall season.', type='TextMessage'), TextMessage(source='primary', models_usage=RequestUsage(prompt_tokens=28, completion_tokens=126), metadata={}, created_at=datetime.datetime(2025, 6, 22, 20, 50, 2, 62631, tzinfo=datetime.timezone.utc), content=\"In autumn's embrace, the leaves ignite,  \\nA tapestry of amber, gold, and bright.  \\nWhispers of wind through the branches sway,  \\nAs twilight descends, marking shorter days.  \\n\\nPumpkins abound in fields aglow,  \\nWhile harvest moon casts a gentle show.  \\nCrisp air carries scents of woodsmoke and spice,  \\nNature's farewell, so tenderly nice.  \\n\\nThe world transforms in a vibrant parade,  \\nWhere memories linger, and colors invade.  \\nIn the fall's soft dance, we find our grace,  \\nAs seasons shift, and time leaves its trace.  \", type='TextMessage'), TextMessage(source='critic', models_usage=RequestUsage(prompt_tokens=171, completion_tokens=196), metadata={}, created_at=datetime.datetime(2025, 6, 22, 20, 50, 3, 913875, tzinfo=datetime.timezone.utc), content='This poem beautifully captures the essence of autumn with vivid imagery and a rhythmic flow. The choice of words like \"tapestry,\" \"whispers,\" and \"aglow\" enhances the sensory experience, effectively invoking the sights, sounds, and smells of the season. \\n\\nHere are some constructive suggestions to enhance it further:\\n\\n1. **Variety in Rhythm**: Consider varying the meter in certain lines to create a more dynamic reading experience. This can help emphasize key moments or feelings.\\n\\n2. **Imagery Expansion**: While the imagery is strong, integrating more specific elements (like certain types of trees or animals) could deepen the connection to the season and create a more immersive experience for the reader.\\n\\n3. **Emotion Element**: Infusing a personal emotion or reflection related to fall could make the piece resonate more on a personal level.\\n\\nOverall, it’s a lovely portrayal of fall! Consider these suggestions, and once addressed, I\\'ll respond with \\'APPROVE\\'.', type='TextMessage')] stop_reason=\"Text 'APPROVE' mentioned\"\n"
     ]
    }
   ],
   "source": [
    "# When running inside a script, use a async main function and call it from `asyncio.run(...)`.\n",
    "result = await team.run(task=\"Write a short poem about the fall season.\")\n",
    "print(result)"
   ]
  },
  {
   "cell_type": "markdown",
   "metadata": {},
   "source": [
    "## Observing a Team\n",
    "Similar to the agent’s on_messages_stream() method, you can stream the team’s messages while it is running by calling the run_stream() method. This method returns a generator that yields messages produced by the agents in the team as they are generated, with the final item being the TaskResult object."
   ]
  },
  {
   "cell_type": "code",
   "execution_count": 5,
   "metadata": {},
   "outputs": [
    {
     "name": "stdout",
     "output_type": "stream",
     "text": [
      "source='user' models_usage=None metadata={} created_at=datetime.datetime(2025, 6, 22, 20, 50, 51, 831588, tzinfo=datetime.timezone.utc) content='Write a short poem about the fall season.' type='TextMessage'\n",
      "source='primary' models_usage=RequestUsage(prompt_tokens=28, completion_tokens=146) metadata={} created_at=datetime.datetime(2025, 6, 22, 20, 50, 54, 161935, tzinfo=datetime.timezone.utc) content=\"In crisp embrace, the autumn calls,  \\nWith golden leaves in fluttered falls,  \\nA tapestry of red and gold,  \\nSuch fleeting beauty to behold.  \\n\\nThe air is laced with pumpkin spice,  \\nAs daylight dims, and shadows slice,  \\nWith each rustle, whispers grow,  \\nA symphony of sunlit glow.  \\n\\nThe harvest moon rides high and bright,  \\nWhile chilly winds embrace the night,  \\nIn every corner, nature sings,  \\nA dance of change as summer swings.  \\n\\nSo gather 'round, let stories weave,  \\nIn fall's embrace, we learn to cleave,  \\nTo moments sweet, both small and grand,  \\nIn autumn's arms, together we stand.\" type='TextMessage'\n",
      "source='critic' models_usage=RequestUsage(prompt_tokens=191, completion_tokens=153) metadata={} created_at=datetime.datetime(2025, 6, 22, 20, 50, 55, 565926, tzinfo=datetime.timezone.utc) content='This poem beautifully captures the essence of fall with its vivid imagery and rhythmic flow. The use of sensory details, like \"crisp embrace\" and \"air is laced with pumpkin spice,\" effectively immerses the reader in the season. The structure is well-organized, with a consistent rhyme scheme that enhances the poem\\'s musicality.\\n\\nOne suggestion for improvement could be to explore slightly more varied imagery or metaphors that highlight less commonly associated aspects of fall, giving a fresh perspective on the season. Additionally, you might want to consider a stronger conclusion that ties back to the overarching themes presented in earlier stanzas.\\n\\nOverall, this is a lovely piece that conveys warmth and nostalgia. Great job!\\n\\nIf you make these adjustments, I\\'ll respond with \\'APPROVE\\'.' type='TextMessage'\n",
      "Stop Reason: Text 'APPROVE' mentioned\n"
     ]
    }
   ],
   "source": [
    "# When running inside a script, use a async main function and call it from `asyncio.run(...)`.\n",
    "await team.reset()  # Reset the team for a new task.\n",
    "async for message in team.run_stream(task=\"Write a short poem about the fall season.\"):\n",
    "    if isinstance(message, TaskResult):\n",
    "        print(\"Stop Reason:\", message.stop_reason)\n",
    "    else:\n",
    "        print(message)"
   ]
  },
  {
   "cell_type": "markdown",
   "metadata": {},
   "source": [
    "## Console()\n",
    "The Console() method provides a convenient way to print messages to the console with proper formatting."
   ]
  },
  {
   "cell_type": "code",
   "execution_count": 6,
   "metadata": {},
   "outputs": [
    {
     "name": "stdout",
     "output_type": "stream",
     "text": [
      "---------- TextMessage (user) ----------\n",
      "Write a short poem about the fall season.\n",
      "---------- TextMessage (primary) ----------\n",
      "In autumn's glow, the world transforms,  \n",
      "As leaves like flames dance and swarm.  \n",
      "Amber hues in crisp cool air,  \n",
      "A tapestry woven with nature's care.  \n",
      "\n",
      "Pumpkin patches line the fields,  \n",
      "Harvest time, the bounty yields.  \n",
      "Whispers of wind through trees so bare,  \n",
      "A gentle reminder of summer's fare.  \n",
      "\n",
      "Hot cocoa steams in twilight's embrace,  \n",
      "While shadows stretch in a slower pace.  \n",
      "As daylight fades and stars unfurl,  \n",
      "The magic of fall, a cherished whirl.  \n",
      "---------- TextMessage (critic) ----------\n",
      "This is a lovely poem that beautifully captures the essence of the fall season. The imagery you use is vivid, and the emotional tone conveys both nostalgia and appreciation for nature's beauty during autumn. Here are a few suggestions for improvement:\n",
      "\n",
      "1. **Imagery Expansion**: Consider adding more sensory details, such as sounds or smells, to further immerse the reader in the fall experience. \n",
      "\n",
      "2. **Rhythmic Variation**: While the current rhythm is pleasant, experimenting with varying line lengths might create a more interesting flow and could enhance the reading experience.\n",
      "\n",
      "3. **Closing Line**: The final line is strong, but you might want to explore a metaphor or simile that encapsulates the magic of fall even further, leaving the reader with a lingering sense of awe.\n",
      "\n",
      "Overall, great work! I would love to see how you evolve this poem with some tweaks. Let me know once you've made adjustments!\n",
      "---------- TextMessage (primary) ----------\n",
      "Thank you for the thoughtful critique! Here’s a revised version of the poem, incorporating your suggestions:  \n",
      "\n",
      "---\n",
      "\n",
      "In autumn's glow, the world transforms,  \n",
      "As leaves like flames dance and swarm.  \n",
      "Amber hues in crisp cool air,  \n",
      "A tapestry woven with nature's care.  \n",
      "\n",
      "Cider's spice drifts in the breeze,  \n",
      "Laughter echoes through rustling trees.  \n",
      "Pumpkin patches line the fields so wide,  \n",
      "Harvest time, with joy and pride.  \n",
      "\n",
      "Whispers of wind in the twilight’s embrace,  \n",
      "Crackling fires as shadows chase,  \n",
      "The soft crunch of leaves beneath our feet,  \n",
      "Each step, a rhythm, a heart's steady beat.  \n",
      "\n",
      "Under a quilt of stars that gleam,  \n",
      "We gather close, wrapped in a dream.  \n",
      "For in this season, time slows to a crawl—  \n",
      "Autumn, a canvas, nature's grand sprawl.  \n",
      "\n",
      "---  \n",
      "\n",
      "I hope this revision captures the essence of your feedback while preserving the spirit of fall!\n",
      "---------- TextMessage (critic) ----------\n",
      "This revised version is fantastic! You've successfully incorporated more sensory details, which enriches the imagery and transports the reader into the experience of autumn. The expansion of the sensory elements like \"Cider's spice\" and the \"soft crunch of leaves\" really helps to evoke the season's unique charm.\n",
      "\n",
      "The rhythmic changes between lines also create a more dynamic flow, making the poem an engaging read. The closing lines are particularly strong, as they beautifully encapsulate the essence of fall and the sense of togetherness it fosters.\n",
      "\n",
      "Excellent job on addressing the feedback! This poem truly shines. I would say 'APPROVE' to your revisions!\n"
     ]
    },
    {
     "data": {
      "text/plain": [
       "TaskResult(messages=[TextMessage(source='user', models_usage=None, metadata={}, created_at=datetime.datetime(2025, 6, 22, 20, 51, 22, 729555, tzinfo=datetime.timezone.utc), content='Write a short poem about the fall season.', type='TextMessage'), TextMessage(source='primary', models_usage=RequestUsage(prompt_tokens=28, completion_tokens=110), metadata={}, created_at=datetime.datetime(2025, 6, 22, 20, 51, 24, 449673, tzinfo=datetime.timezone.utc), content=\"In autumn's glow, the world transforms,  \\nAs leaves like flames dance and swarm.  \\nAmber hues in crisp cool air,  \\nA tapestry woven with nature's care.  \\n\\nPumpkin patches line the fields,  \\nHarvest time, the bounty yields.  \\nWhispers of wind through trees so bare,  \\nA gentle reminder of summer's fare.  \\n\\nHot cocoa steams in twilight's embrace,  \\nWhile shadows stretch in a slower pace.  \\nAs daylight fades and stars unfurl,  \\nThe magic of fall, a cherished whirl.  \", type='TextMessage'), TextMessage(source='critic', models_usage=RequestUsage(prompt_tokens=155, completion_tokens=183), metadata={}, created_at=datetime.datetime(2025, 6, 22, 20, 51, 26, 406839, tzinfo=datetime.timezone.utc), content=\"This is a lovely poem that beautifully captures the essence of the fall season. The imagery you use is vivid, and the emotional tone conveys both nostalgia and appreciation for nature's beauty during autumn. Here are a few suggestions for improvement:\\n\\n1. **Imagery Expansion**: Consider adding more sensory details, such as sounds or smells, to further immerse the reader in the fall experience. \\n\\n2. **Rhythmic Variation**: While the current rhythm is pleasant, experimenting with varying line lengths might create a more interesting flow and could enhance the reading experience.\\n\\n3. **Closing Line**: The final line is strong, but you might want to explore a metaphor or simile that encapsulates the magic of fall even further, leaving the reader with a lingering sense of awe.\\n\\nOverall, great work! I would love to see how you evolve this poem with some tweaks. Let me know once you've made adjustments!\", type='TextMessage'), TextMessage(source='primary', models_usage=RequestUsage(prompt_tokens=329, completion_tokens=205), metadata={}, created_at=datetime.datetime(2025, 6, 22, 20, 51, 28, 161519, tzinfo=datetime.timezone.utc), content=\"Thank you for the thoughtful critique! Here’s a revised version of the poem, incorporating your suggestions:  \\n\\n---\\n\\nIn autumn's glow, the world transforms,  \\nAs leaves like flames dance and swarm.  \\nAmber hues in crisp cool air,  \\nA tapestry woven with nature's care.  \\n\\nCider's spice drifts in the breeze,  \\nLaughter echoes through rustling trees.  \\nPumpkin patches line the fields so wide,  \\nHarvest time, with joy and pride.  \\n\\nWhispers of wind in the twilight’s embrace,  \\nCrackling fires as shadows chase,  \\nThe soft crunch of leaves beneath our feet,  \\nEach step, a rhythm, a heart's steady beat.  \\n\\nUnder a quilt of stars that gleam,  \\nWe gather close, wrapped in a dream.  \\nFor in this season, time slows to a crawl—  \\nAutumn, a canvas, nature's grand sprawl.  \\n\\n---  \\n\\nI hope this revision captures the essence of your feedback while preserving the spirit of fall!\", type='TextMessage'), TextMessage(source='critic', models_usage=RequestUsage(prompt_tokens=551, completion_tokens=128), metadata={}, created_at=datetime.datetime(2025, 6, 22, 20, 51, 29, 589478, tzinfo=datetime.timezone.utc), content='This revised version is fantastic! You\\'ve successfully incorporated more sensory details, which enriches the imagery and transports the reader into the experience of autumn. The expansion of the sensory elements like \"Cider\\'s spice\" and the \"soft crunch of leaves\" really helps to evoke the season\\'s unique charm.\\n\\nThe rhythmic changes between lines also create a more dynamic flow, making the poem an engaging read. The closing lines are particularly strong, as they beautifully encapsulate the essence of fall and the sense of togetherness it fosters.\\n\\nExcellent job on addressing the feedback! This poem truly shines. I would say \\'APPROVE\\' to your revisions!', type='TextMessage')], stop_reason=\"Text 'APPROVE' mentioned\")"
      ]
     },
     "execution_count": 6,
     "metadata": {},
     "output_type": "execute_result"
    }
   ],
   "source": [
    "await team.reset()  # Reset the team for a new task.\n",
    "await Console(team.run_stream(task=\"Write a short poem about the fall season.\"))  # Stream the messages to the console."
   ]
  },
  {
   "cell_type": "markdown",
   "metadata": {},
   "source": [
    "## Team has a State"
   ]
  },
  {
   "cell_type": "code",
   "execution_count": 7,
   "metadata": {},
   "outputs": [
    {
     "name": "stdout",
     "output_type": "stream",
     "text": [
      "---------- TextMessage (user) ----------\n",
      "What was the last message?\n",
      "---------- TextMessage (primary) ----------\n",
      "The last message was a positive review of the revised poem about the fall season. It praised the incorporation of more sensory details that enriched the imagery and transported the reader into the experience of autumn. The critique noted the improved rhythm and flow of the poem and highlighted the strength of the closing lines in encapsulating the essence of fall and the sense of togetherness it fosters. Overall, it concluded with an enthusiastic \"APPROVE\" for the revisions made.\n"
     ]
    },
    {
     "data": {
      "text/plain": [
       "TaskResult(messages=[TextMessage(source='user', models_usage=None, metadata={}, created_at=datetime.datetime(2025, 6, 22, 20, 51, 45, 557008, tzinfo=datetime.timezone.utc), content='What was the last message?', type='TextMessage'), TextMessage(source='primary', models_usage=RequestUsage(prompt_tokens=681, completion_tokens=91), metadata={}, created_at=datetime.datetime(2025, 6, 22, 20, 51, 47, 302089, tzinfo=datetime.timezone.utc), content='The last message was a positive review of the revised poem about the fall season. It praised the incorporation of more sensory details that enriched the imagery and transported the reader into the experience of autumn. The critique noted the improved rhythm and flow of the poem and highlighted the strength of the closing lines in encapsulating the essence of fall and the sense of togetherness it fosters. Overall, it concluded with an enthusiastic \"APPROVE\" for the revisions made.', type='TextMessage')], stop_reason=\"Text 'APPROVE' mentioned\")"
      ]
     },
     "execution_count": 7,
     "metadata": {},
     "output_type": "execute_result"
    }
   ],
   "source": [
    "await Console(team.run_stream(task=\"What was the last message?\"))  # Stream the messages to the console."
   ]
  },
  {
   "cell_type": "markdown",
   "metadata": {},
   "source": [
    "## Resetting a Team\n",
    "You can reset the team by calling the reset() method. This method will clear the team’s state, including all agents. It will call the each agent’s on_reset() method"
   ]
  },
  {
   "cell_type": "code",
   "execution_count": 8,
   "metadata": {},
   "outputs": [],
   "source": [
    "await team.reset()  # Reset the team for the next run."
   ]
  },
  {
   "cell_type": "markdown",
   "metadata": {},
   "source": [
    "## Stopping a Team\n",
    "You can also stop the team from outside by using the ExternalTermination.\n",
    "\n",
    "Calling set() on ExternalTermination will stop the team when the current agent’s turn is over. \n",
    "\n",
    "Thus, the team may not stop immediately. This allows the current agent to finish its turn and broadcast the final message to the team before the team stops, keeping the team’s state consistent."
   ]
  },
  {
   "cell_type": "code",
   "execution_count": 9,
   "metadata": {},
   "outputs": [
    {
     "name": "stdout",
     "output_type": "stream",
     "text": [
      "---------- TextMessage (user) ----------\n",
      "Write a short poem about the fall season.\n",
      "---------- TextMessage (primary) ----------\n",
      "In whispers soft, the autumn breeze,  \n",
      "Dances through the rustling leaves,  \n",
      "Gold and crimson, nature's art,  \n",
      "As summer fades, it leaves its heart.  \n",
      "\n",
      "The sun dips low, a golden hue,  \n",
      "Painting skies in shades anew,  \n",
      "Harvest moons and fields of grain,  \n",
      "Time to gather, time to gain.  \n",
      "\n",
      "Sweaters donned and fires ignited,  \n",
      "Warmth of gatherings, happiness invited,  \n",
      "With every crunch beneath our feet,  \n",
      "Fall's sweet embrace is crisp and neat.  \n",
      "\n",
      "So let the seasons shift and sway,  \n",
      "In fall's embrace, we'll find our way,  \n",
      "For though the days grow short and cool,  \n",
      "In autumn's charm, we find the jewel.\n"
     ]
    },
    {
     "data": {
      "text/plain": [
       "TaskResult(messages=[TextMessage(source='user', models_usage=None, metadata={}, created_at=datetime.datetime(2025, 6, 22, 20, 52, 25, 709287, tzinfo=datetime.timezone.utc), content='Write a short poem about the fall season.', type='TextMessage'), TextMessage(source='primary', models_usage=RequestUsage(prompt_tokens=28, completion_tokens=149), metadata={}, created_at=datetime.datetime(2025, 6, 22, 20, 52, 27, 994213, tzinfo=datetime.timezone.utc), content=\"In whispers soft, the autumn breeze,  \\nDances through the rustling leaves,  \\nGold and crimson, nature's art,  \\nAs summer fades, it leaves its heart.  \\n\\nThe sun dips low, a golden hue,  \\nPainting skies in shades anew,  \\nHarvest moons and fields of grain,  \\nTime to gather, time to gain.  \\n\\nSweaters donned and fires ignited,  \\nWarmth of gatherings, happiness invited,  \\nWith every crunch beneath our feet,  \\nFall's sweet embrace is crisp and neat.  \\n\\nSo let the seasons shift and sway,  \\nIn fall's embrace, we'll find our way,  \\nFor though the days grow short and cool,  \\nIn autumn's charm, we find the jewel.\", type='TextMessage')], stop_reason='External termination requested')"
      ]
     },
     "execution_count": 9,
     "metadata": {},
     "output_type": "execute_result"
    }
   ],
   "source": [
    "# Create a new team with an external termination condition.\n",
    "external_termination = ExternalTermination()\n",
    "team = RoundRobinGroupChat(\n",
    "    [primary_agent, critic_agent],\n",
    "    termination_condition=external_termination | text_termination,  # Use the bitwise OR operator to combine conditions.\n",
    ")\n",
    "\n",
    "# Run the team in a background task.\n",
    "run = asyncio.create_task(Console(team.run_stream(task=\"Write a short poem about the fall season.\")))\n",
    "\n",
    "# Wait for some time.\n",
    "await asyncio.sleep(0.1)\n",
    "\n",
    "# Stop the team.\n",
    "external_termination.set()\n",
    "\n",
    "# Wait for the team to finish.\n",
    "await run # Primary agent is still allowed to complete its task."
   ]
  },
  {
   "cell_type": "markdown",
   "metadata": {},
   "source": [
    "## Resuming a Team\n",
    "Teams are stateful and maintains the conversation history and context after each run, unless you reset the team.\n",
    "\n",
    "You can resume a team to continue from where it left off by calling the run() or run_stream() method again without a new task. RoundRobinGroupChat will continue from the next agent in the round-robin order.\n",
    "\n",
    "In this example, critic agent continued where primary agent left off"
   ]
  },
  {
   "cell_type": "code",
   "execution_count": 10,
   "metadata": {},
   "outputs": [
    {
     "name": "stdout",
     "output_type": "stream",
     "text": [
      "---------- TextMessage (critic) ----------\n",
      "This poem beautifully captures the essence of the fall season with vivid imagery and a warm, inviting tone. The use of sensory language, like \"whispers soft\" and \"crunch beneath our feet,\" allows readers to feel immersed in the experience of autumn. \n",
      "\n",
      "A few constructive suggestions:\n",
      "1. **Rhythm and Flow**: Consider slightly revising some lines for smoother rhythm. For instance, \"As summer fades, it leaves its heart\" could be adjusted to improve meter.\n",
      "2. **Imagery Expansion**: While the imagery is strong, you might enhance it with additional elements of fall, such as specific animals or activities associated with the season, to deepen the sense of place.\n",
      "3. **Ending Strength**: The closing lines encapsulate the theme well, but you could emphasize the \"jewel\" metaphor further, perhaps by elaborating on what this jewel represents—nostalgia, beauty, change, etc.\n",
      "\n",
      "Overall, it's a lovely reflection on autumn, and with these minor adjustments, it could be even more impactful. \n",
      "\n",
      "Looking forward to your revision!\n",
      "---------- TextMessage (primary) ----------\n",
      "Thank you for your thoughtful feedback! Here’s a revised version of the poem, incorporating your suggestions:\n",
      "\n",
      "---\n",
      "\n",
      "In whispers soft, the autumn breeze,  \n",
      "Dances through the amber leaves,  \n",
      "Gold and crimson, nature’s art,  \n",
      "As summer wanes, it leaves its heart.  \n",
      "\n",
      "The sun dips low, a warm embrace,  \n",
      "Painting skies with gentle grace.  \n",
      "Harvest moons and fields of grain,   \n",
      "Squirrels scamper, joys unchain.  \n",
      "\n",
      "Sweaters donned and fires ignited,  \n",
      "Warmth of gatherings, spirits invited.  \n",
      "With every crunch beneath our feet,  \n",
      "Fall's sweet embrace is bittersweet.  \n",
      "\n",
      "The jewel of change, of fleeting time,  \n",
      "Holds nostalgia in its rhyme,  \n",
      "A season’s hymn, both crisp and true,  \n",
      "In autumn’s glow, our dreams renew.  \n",
      "\n",
      "---\n",
      "\n",
      "I hope this revision enhances the imagery and flow. Thank you for encouraging me to deepen the depiction of fall!\n",
      "---------- TextMessage (critic) ----------\n",
      "This revised version of the poem is stunning! You've effectively addressed the feedback, resulting in a more cohesive rhythm and enhanced imagery. The line revisions, like \"amber leaves\" and \"squirrels scamper,\" bring life and movement to the piece, making it even more evocative of the autumn season.\n",
      "\n",
      "The ending, with the “jewel of change” and the notion of nostalgia, beautifully captures the essence of fall, emphasizing both its beauty and the passage of time. The use of \"bittersweet\" adds emotional depth, making it relatable to many readers.\n",
      "\n",
      "You've done an excellent job balancing the description with a reflective tone. This version flows well and maintains a captivating atmosphere throughout.\n",
      "\n",
      "APPROVE\n"
     ]
    },
    {
     "data": {
      "text/plain": [
       "TaskResult(messages=[TextMessage(source='critic', models_usage=RequestUsage(prompt_tokens=194, completion_tokens=215), metadata={}, created_at=datetime.datetime(2025, 6, 22, 20, 52, 44, 77004, tzinfo=datetime.timezone.utc), content='This poem beautifully captures the essence of the fall season with vivid imagery and a warm, inviting tone. The use of sensory language, like \"whispers soft\" and \"crunch beneath our feet,\" allows readers to feel immersed in the experience of autumn. \\n\\nA few constructive suggestions:\\n1. **Rhythm and Flow**: Consider slightly revising some lines for smoother rhythm. For instance, \"As summer fades, it leaves its heart\" could be adjusted to improve meter.\\n2. **Imagery Expansion**: While the imagery is strong, you might enhance it with additional elements of fall, such as specific animals or activities associated with the season, to deepen the sense of place.\\n3. **Ending Strength**: The closing lines encapsulate the theme well, but you could emphasize the \"jewel\" metaphor further, perhaps by elaborating on what this jewel represents—nostalgia, beauty, change, etc.\\n\\nOverall, it\\'s a lovely reflection on autumn, and with these minor adjustments, it could be even more impactful. \\n\\nLooking forward to your revision!', type='TextMessage'), TextMessage(source='primary', models_usage=RequestUsage(prompt_tokens=400, completion_tokens=193), metadata={}, created_at=datetime.datetime(2025, 6, 22, 20, 52, 46, 162686, tzinfo=datetime.timezone.utc), content=\"Thank you for your thoughtful feedback! Here’s a revised version of the poem, incorporating your suggestions:\\n\\n---\\n\\nIn whispers soft, the autumn breeze,  \\nDances through the amber leaves,  \\nGold and crimson, nature’s art,  \\nAs summer wanes, it leaves its heart.  \\n\\nThe sun dips low, a warm embrace,  \\nPainting skies with gentle grace.  \\nHarvest moons and fields of grain,   \\nSquirrels scamper, joys unchain.  \\n\\nSweaters donned and fires ignited,  \\nWarmth of gatherings, spirits invited.  \\nWith every crunch beneath our feet,  \\nFall's sweet embrace is bittersweet.  \\n\\nThe jewel of change, of fleeting time,  \\nHolds nostalgia in its rhyme,  \\nA season’s hymn, both crisp and true,  \\nIn autumn’s glow, our dreams renew.  \\n\\n---\\n\\nI hope this revision enhances the imagery and flow. Thank you for encouraging me to deepen the depiction of fall!\", type='TextMessage'), TextMessage(source='critic', models_usage=RequestUsage(prompt_tokens=610, completion_tokens=142), metadata={}, created_at=datetime.datetime(2025, 6, 22, 20, 52, 47, 629617, tzinfo=datetime.timezone.utc), content='This revised version of the poem is stunning! You\\'ve effectively addressed the feedback, resulting in a more cohesive rhythm and enhanced imagery. The line revisions, like \"amber leaves\" and \"squirrels scamper,\" bring life and movement to the piece, making it even more evocative of the autumn season.\\n\\nThe ending, with the “jewel of change” and the notion of nostalgia, beautifully captures the essence of fall, emphasizing both its beauty and the passage of time. The use of \"bittersweet\" adds emotional depth, making it relatable to many readers.\\n\\nYou\\'ve done an excellent job balancing the description with a reflective tone. This version flows well and maintains a captivating atmosphere throughout.\\n\\nAPPROVE', type='TextMessage')], stop_reason=\"Text 'APPROVE' mentioned\")"
      ]
     },
     "execution_count": 10,
     "metadata": {},
     "output_type": "execute_result"
    }
   ],
   "source": [
    "await Console(team.run_stream())  # Resume the team to continue the last task."
   ]
  },
  {
   "cell_type": "markdown",
   "metadata": {},
   "source": [
    "## Aborting a Team\n",
    "You can abort a call to run() or run_stream() during execution by setting a CancellationToken passed to the cancellation_token parameter.\n",
    "\n",
    "Different from stopping a team, aborting a team will immediately stop the team and raise a CancelledError exception."
   ]
  },
  {
   "cell_type": "code",
   "execution_count": 11,
   "metadata": {},
   "outputs": [
    {
     "name": "stdout",
     "output_type": "stream",
     "text": [
      "Task was cancelled.\n"
     ]
    }
   ],
   "source": [
    "# Create a cancellation token.\n",
    "cancellation_token = CancellationToken()\n",
    "\n",
    "# Use another coroutine to run the team.\n",
    "run = asyncio.create_task(\n",
    "    team.run(\n",
    "        task=\"Translate the poem to Spanish.\",\n",
    "        cancellation_token=cancellation_token,\n",
    "    )\n",
    ")\n",
    "\n",
    "# Cancel the run.\n",
    "cancellation_token.cancel()\n",
    "\n",
    "try:\n",
    "    result = await run  # This will raise a CancelledError.\n",
    "except asyncio.CancelledError:\n",
    "    print(\"Task was cancelled.\")"
   ]
  },
  {
   "cell_type": "markdown",
   "metadata": {},
   "source": [
    "## Other Built-In Termination Conditions:\n",
    "- MaxMessageTermination: Stops after a specified number of messages have been produced, including both agent and task messages.\n",
    "- TextMentionTermination: Stops when specific text or string is mentioned in a message (e.g., “TERMINATE”).\n",
    "- ExternalTermination: Enables programmatic control of termination from outside the run. This is useful for UI integration (e.g., “Stop” buttons in chat interfaces).\n",
    "- TokenUsageTermination: Stops when a certain number of prompt or completion tokens are used. This requires the agents to report token usage in their messages.\n",
    "- TimeoutTermination: Stops after a specified duration in seconds.\n",
    "- SourceMatchTermination: Stops after a specific agent responds.\n",
    "- HandoffTermination: Stops when a handoff to a specific target is requested. Handoff messages can be used to build patterns such as Swarm. This is useful when you want to pause the run and allow application or user to provide input when an agent hands off to them.\n",
    "- StopMessageTermination: Stops when a StopMessage is produced by an agent."
   ]
  },
  {
   "cell_type": "code",
   "execution_count": 12,
   "metadata": {},
   "outputs": [
    {
     "name": "stdout",
     "output_type": "stream",
     "text": [
      "---------- TextMessage (user) ----------\n",
      "Give a number\n",
      "---------- TextMessage (first) ----------\n",
      "7\n",
      "---------- TextMessage (second) ----------\n",
      "5\n",
      "---------- TextMessage (third) ----------\n",
      "3\n",
      "---------- TextMessage (first) ----------\n",
      "2\n"
     ]
    },
    {
     "data": {
      "text/plain": [
       "TaskResult(messages=[TextMessage(source='user', models_usage=None, metadata={}, created_at=datetime.datetime(2025, 6, 22, 20, 53, 50, 185816, tzinfo=datetime.timezone.utc), content='Give a number', type='TextMessage'), TextMessage(source='first', models_usage=RequestUsage(prompt_tokens=28, completion_tokens=2), metadata={}, created_at=datetime.datetime(2025, 6, 22, 20, 53, 51, 402913, tzinfo=datetime.timezone.utc), content='7', type='TextMessage'), TextMessage(source='second', models_usage=RequestUsage(prompt_tokens=34, completion_tokens=2), metadata={}, created_at=datetime.datetime(2025, 6, 22, 20, 53, 51, 901500, tzinfo=datetime.timezone.utc), content='5', type='TextMessage'), TextMessage(source='third', models_usage=RequestUsage(prompt_tokens=41, completion_tokens=2), metadata={}, created_at=datetime.datetime(2025, 6, 22, 20, 53, 52, 384207, tzinfo=datetime.timezone.utc), content='3', type='TextMessage'), TextMessage(source='first', models_usage=RequestUsage(prompt_tokens=47, completion_tokens=2), metadata={}, created_at=datetime.datetime(2025, 6, 22, 20, 53, 52, 884162, tzinfo=datetime.timezone.utc), content='2', type='TextMessage')], stop_reason='Maximum number of messages 5 reached, current message count: 5')"
      ]
     },
     "execution_count": 12,
     "metadata": {},
     "output_type": "execute_result"
    }
   ],
   "source": [
    "from autogen_agentchat.agents import AssistantAgent\n",
    "from autogen_agentchat.conditions import MaxMessageTermination, TextMentionTermination, ExternalTermination, TokenUsageTermination, TimeoutTermination, SourceMatchTermination, HandoffTermination, StopMessageTermination\n",
    "from autogen_agentchat.teams import RoundRobinGroupChat\n",
    "from autogen_agentchat.ui import Console\n",
    "\n",
    "# Create the first agent.\n",
    "first_agent = AssistantAgent(\n",
    "    \"first\",\n",
    "    model_client=az_model_client,\n",
    "    system_message=\"You will give a random number between 1 and 10.\",\n",
    ")\n",
    "\n",
    "# Create the second agent.\n",
    "second_agent = AssistantAgent(\n",
    "    \"second\",\n",
    "    model_client=az_model_client,\n",
    "    system_message=\"You will give a random number between 1 and 10.\",\n",
    ")\n",
    "\n",
    "# Create the second agent.\n",
    "third_agent = AssistantAgent(\n",
    "    \"third\",\n",
    "    model_client=az_model_client,\n",
    "    system_message=\"You will give a random number between 1 and 10.\",\n",
    ")\n",
    "\n",
    "# MaxMessageTermination\n",
    "termination = MaxMessageTermination(5) # terminate after 5 messages\n",
    "team = RoundRobinGroupChat([first_agent, second_agent, third_agent], termination_condition=termination)\n",
    "\n",
    "await Console(team.run_stream(task=\"Give a number\"))"
   ]
  },
  {
   "cell_type": "code",
   "execution_count": 13,
   "metadata": {},
   "outputs": [
    {
     "name": "stdout",
     "output_type": "stream",
     "text": [
      "---------- TextMessage (user) ----------\n",
      "Give a number\n",
      "---------- TextMessage (first) ----------\n",
      "4\n"
     ]
    },
    {
     "data": {
      "text/plain": [
       "TaskResult(messages=[TextMessage(source='user', models_usage=None, metadata={}, created_at=datetime.datetime(2025, 6, 22, 20, 54, 0, 640991, tzinfo=datetime.timezone.utc), content='Give a number', type='TextMessage'), TextMessage(source='first', models_usage=RequestUsage(prompt_tokens=60, completion_tokens=2), metadata={}, created_at=datetime.datetime(2025, 6, 22, 20, 54, 1, 771725, tzinfo=datetime.timezone.utc), content='4', type='TextMessage')], stop_reason=\"Text '4' mentioned\")"
      ]
     },
     "execution_count": 13,
     "metadata": {},
     "output_type": "execute_result"
    }
   ],
   "source": [
    "#TextMentionTermination\n",
    "termination = TextMentionTermination(\"4\") # Terminate when the message contains \"4\".\n",
    "team = RoundRobinGroupChat([first_agent, second_agent, third_agent], termination_condition=termination)\n",
    "await Console(team.run_stream(task=\"Give a number\"))"
   ]
  },
  {
   "cell_type": "code",
   "execution_count": 14,
   "metadata": {},
   "outputs": [
    {
     "name": "stdout",
     "output_type": "stream",
     "text": [
      "---------- TextMessage (user) ----------\n",
      "Give a number\n",
      "---------- TextMessage (first) ----------\n",
      "9\n",
      "---------- TextMessage (second) ----------\n",
      "3\n",
      "---------- TextMessage (third) ----------\n",
      "6\n",
      "---------- TextMessage (first) ----------\n",
      "1\n",
      "---------- TextMessage (second) ----------\n",
      "8\n"
     ]
    },
    {
     "data": {
      "text/plain": [
       "TaskResult(messages=[TextMessage(source='user', models_usage=None, metadata={}, created_at=datetime.datetime(2025, 6, 22, 20, 54, 22, 217484, tzinfo=datetime.timezone.utc), content='Give a number', type='TextMessage'), TextMessage(source='first', models_usage=RequestUsage(prompt_tokens=73, completion_tokens=2), metadata={}, created_at=datetime.datetime(2025, 6, 22, 20, 54, 23, 606460, tzinfo=datetime.timezone.utc), content='9', type='TextMessage'), TextMessage(source='second', models_usage=RequestUsage(prompt_tokens=53, completion_tokens=2), metadata={}, created_at=datetime.datetime(2025, 6, 22, 20, 54, 24, 103496, tzinfo=datetime.timezone.utc), content='3', type='TextMessage'), TextMessage(source='third', models_usage=RequestUsage(prompt_tokens=67, completion_tokens=2), metadata={}, created_at=datetime.datetime(2025, 6, 22, 20, 54, 24, 589306, tzinfo=datetime.timezone.utc), content='6', type='TextMessage'), TextMessage(source='first', models_usage=RequestUsage(prompt_tokens=92, completion_tokens=2), metadata={}, created_at=datetime.datetime(2025, 6, 22, 20, 54, 25, 129141, tzinfo=datetime.timezone.utc), content='1', type='TextMessage'), TextMessage(source='second', models_usage=RequestUsage(prompt_tokens=71, completion_tokens=2), metadata={}, created_at=datetime.datetime(2025, 6, 22, 20, 54, 25, 631732, tzinfo=datetime.timezone.utc), content='8', type='TextMessage')], stop_reason='External termination requested')"
      ]
     },
     "execution_count": 14,
     "metadata": {},
     "output_type": "execute_result"
    }
   ],
   "source": [
    "import asyncio\n",
    "#ExternalTermination\n",
    "termination = ExternalTermination() # Create an external termination condition.\n",
    "\n",
    "team = RoundRobinGroupChat([first_agent, second_agent, third_agent], termination_condition=termination)\n",
    "\n",
    "# Run the team in a background task.\n",
    "run = asyncio.create_task(Console(team.run_stream(task=\"Give a number\")))\n",
    "\n",
    "# Wait for some time.\n",
    "await asyncio.sleep(3)\n",
    "\n",
    "# Stop the team.\n",
    "termination.set()\n",
    "\n",
    "# Wait for the team to finish.\n",
    "await run\n"
   ]
  },
  {
   "cell_type": "code",
   "execution_count": 15,
   "metadata": {},
   "outputs": [
    {
     "name": "stdout",
     "output_type": "stream",
     "text": [
      "---------- TextMessage (user) ----------\n",
      "Give a number\n",
      "---------- TextMessage (first) ----------\n",
      "8\n"
     ]
    },
    {
     "data": {
      "text/plain": [
       "TaskResult(messages=[TextMessage(source='user', models_usage=None, metadata={}, created_at=datetime.datetime(2025, 6, 22, 20, 54, 53, 911713, tzinfo=datetime.timezone.utc), content='Give a number', type='TextMessage'), TextMessage(source='first', models_usage=RequestUsage(prompt_tokens=105, completion_tokens=2), metadata={}, created_at=datetime.datetime(2025, 6, 22, 20, 54, 55, 161231, tzinfo=datetime.timezone.utc), content='8', type='TextMessage')], stop_reason='Token usage limit reached, total token count: 107, prompt token count: 105, completion token count: 2.')"
      ]
     },
     "execution_count": 15,
     "metadata": {},
     "output_type": "execute_result"
    }
   ],
   "source": [
    "#TokenUsageTermination\n",
    "termination = TokenUsageTermination(100) # terminate when token usage is met.\n",
    "team = RoundRobinGroupChat([first_agent, second_agent, third_agent], termination_condition=termination)\n",
    "await Console(team.run_stream(task=\"Give a number\"))"
   ]
  },
  {
   "cell_type": "code",
   "execution_count": 16,
   "metadata": {},
   "outputs": [
    {
     "name": "stdout",
     "output_type": "stream",
     "text": [
      "---------- TextMessage (user) ----------\n",
      "Give a number\n",
      "---------- TextMessage (first) ----------\n",
      "10\n",
      "---------- TextMessage (second) ----------\n",
      "2\n",
      "---------- TextMessage (third) ----------\n",
      "4\n",
      "---------- TextMessage (first) ----------\n",
      "5\n",
      "---------- TextMessage (second) ----------\n",
      "9\n",
      "---------- TextMessage (third) ----------\n",
      "1\n",
      "---------- TextMessage (first) ----------\n",
      "6\n",
      "---------- TextMessage (second) ----------\n",
      "7\n",
      "---------- TextMessage (third) ----------\n",
      "2\n"
     ]
    },
    {
     "data": {
      "text/plain": [
       "TaskResult(messages=[TextMessage(source='user', models_usage=None, metadata={}, created_at=datetime.datetime(2025, 6, 22, 20, 55, 3, 981706, tzinfo=datetime.timezone.utc), content='Give a number', type='TextMessage'), TextMessage(source='first', models_usage=RequestUsage(prompt_tokens=118, completion_tokens=2), metadata={}, created_at=datetime.datetime(2025, 6, 22, 20, 55, 5, 215065, tzinfo=datetime.timezone.utc), content='10', type='TextMessage'), TextMessage(source='second', models_usage=RequestUsage(prompt_tokens=90, completion_tokens=2), metadata={}, created_at=datetime.datetime(2025, 6, 22, 20, 55, 5, 716384, tzinfo=datetime.timezone.utc), content='2', type='TextMessage'), TextMessage(source='third', models_usage=RequestUsage(prompt_tokens=93, completion_tokens=2), metadata={}, created_at=datetime.datetime(2025, 6, 22, 20, 55, 6, 215797, tzinfo=datetime.timezone.utc), content='4', type='TextMessage'), TextMessage(source='first', models_usage=RequestUsage(prompt_tokens=137, completion_tokens=2), metadata={}, created_at=datetime.datetime(2025, 6, 22, 20, 55, 6, 718638, tzinfo=datetime.timezone.utc), content='5', type='TextMessage'), TextMessage(source='second', models_usage=RequestUsage(prompt_tokens=108, completion_tokens=2), metadata={}, created_at=datetime.datetime(2025, 6, 22, 20, 55, 7, 232009, tzinfo=datetime.timezone.utc), content='9', type='TextMessage'), TextMessage(source='third', models_usage=RequestUsage(prompt_tokens=111, completion_tokens=2), metadata={}, created_at=datetime.datetime(2025, 6, 22, 20, 55, 7, 808886, tzinfo=datetime.timezone.utc), content='1', type='TextMessage'), TextMessage(source='first', models_usage=RequestUsage(prompt_tokens=156, completion_tokens=2), metadata={}, created_at=datetime.datetime(2025, 6, 22, 20, 55, 8, 309210, tzinfo=datetime.timezone.utc), content='6', type='TextMessage'), TextMessage(source='second', models_usage=RequestUsage(prompt_tokens=126, completion_tokens=2), metadata={}, created_at=datetime.datetime(2025, 6, 22, 20, 55, 8, 807610, tzinfo=datetime.timezone.utc), content='7', type='TextMessage'), TextMessage(source='third', models_usage=RequestUsage(prompt_tokens=129, completion_tokens=2), metadata={}, created_at=datetime.datetime(2025, 6, 22, 20, 55, 9, 287058, tzinfo=datetime.timezone.utc), content='2', type='TextMessage')], stop_reason='Timeout of 5 seconds reached')"
      ]
     },
     "execution_count": 16,
     "metadata": {},
     "output_type": "execute_result"
    }
   ],
   "source": [
    "#TimeoutTermination\n",
    "termination = TimeoutTermination(5) # terminate when time out is met.\n",
    "team = RoundRobinGroupChat([first_agent, second_agent, third_agent], termination_condition=termination)\n",
    "await Console(team.run_stream(task=\"Give a number\"))"
   ]
  },
  {
   "cell_type": "code",
   "execution_count": 17,
   "metadata": {},
   "outputs": [
    {
     "name": "stdout",
     "output_type": "stream",
     "text": [
      "---------- TextMessage (user) ----------\n",
      "Give a number\n",
      "---------- TextMessage (first) ----------\n",
      "3\n",
      "---------- TextMessage (second) ----------\n",
      "4\n",
      "---------- TextMessage (third) ----------\n",
      "8\n"
     ]
    },
    {
     "data": {
      "text/plain": [
       "TaskResult(messages=[TextMessage(source='user', models_usage=None, metadata={}, created_at=datetime.datetime(2025, 6, 22, 20, 55, 17, 121357, tzinfo=datetime.timezone.utc), content='Give a number', type='TextMessage'), TextMessage(source='first', models_usage=RequestUsage(prompt_tokens=169, completion_tokens=2), metadata={}, created_at=datetime.datetime(2025, 6, 22, 20, 55, 18, 305344, tzinfo=datetime.timezone.utc), content='3', type='TextMessage'), TextMessage(source='second', models_usage=RequestUsage(prompt_tokens=145, completion_tokens=2), metadata={}, created_at=datetime.datetime(2025, 6, 22, 20, 55, 18, 789323, tzinfo=datetime.timezone.utc), content='4', type='TextMessage'), TextMessage(source='third', models_usage=RequestUsage(prompt_tokens=155, completion_tokens=2), metadata={}, created_at=datetime.datetime(2025, 6, 22, 20, 55, 19, 278943, tzinfo=datetime.timezone.utc), content='8', type='TextMessage')], stop_reason=\"'third' answered\")"
      ]
     },
     "execution_count": 17,
     "metadata": {},
     "output_type": "execute_result"
    }
   ],
   "source": [
    "#SourceMatchTermination\n",
    "termination = SourceMatchTermination(\"third\") # terminate when source match agent is met.\n",
    "team = RoundRobinGroupChat([first_agent, second_agent, third_agent], termination_condition=termination)\n",
    "await Console(team.run_stream(task=\"Give a number\"))"
   ]
  },
  {
   "cell_type": "code",
   "execution_count": null,
   "metadata": {},
   "outputs": [],
   "source": []
  }
 ],
 "metadata": {
  "kernelspec": {
   "display_name": ".venv",
   "language": "python",
   "name": "python3"
  },
  "language_info": {
   "codemirror_mode": {
    "name": "ipython",
    "version": 3
   },
   "file_extension": ".py",
   "mimetype": "text/x-python",
   "name": "python",
   "nbconvert_exporter": "python",
   "pygments_lexer": "ipython3",
   "version": "3.12.1"
  }
 },
 "nbformat": 4,
 "nbformat_minor": 2
}
